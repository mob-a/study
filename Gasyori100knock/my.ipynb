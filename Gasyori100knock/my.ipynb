{
 "cells": [
  {
   "cell_type": "code",
   "execution_count": 186,
   "metadata": {},
   "outputs": [],
   "source": [
    "import numpy as np\n",
    "import cv2\n",
    "import matplotlib.pyplot as plt\n",
    "\n",
    "def load(fn):\n",
    "    img = cv2.imread(\"../assets/\" + fn)\n",
    "    img = img[..., ::-1]\n",
    "    return img \n",
    "\n",
    "def show(img):\n",
    "    plt.imshow(img)\n",
    "    \n",
    "img128 = load(\"imori.jpg\")\n",
    "img = load(\"imori_256x256.png\")\n",
    "nimg = load(\"imori_256x256_noise.png\")\n",
    "dimg = load(\"imori_256x256_dark.png\")\n",
    "gimg = load(\"imori_256x256_gamma.png\")\n"
   ]
  },
  {
   "cell_type": "code",
   "execution_count": 4,
   "metadata": {
    "scrolled": true
   },
   "outputs": [
    {
     "data": {
      "text/plain": [
       "<matplotlib.image.AxesImage at 0x7f52ebd1f7f0>"
      ]
     },
     "execution_count": 4,
     "metadata": {},
     "output_type": "execute_result"
    },
    {
     "data": {
      "image/png": "[encoded data removed]",
      "text/plain": [
       "<Figure size 432x288 with 1 Axes>"
      ]
     },
     "metadata": {
      "needs_background": "light"
     },
     "output_type": "display_data"
    }
   ],
   "source": [
    "\n",
    "\n",
    "# 画像の読み込み\n",
    "img = cv2.imread(\"../assets/imori.jpg\")\n",
    "\n",
    "# 画像の表示\n",
    "plt.imshow(img)\n",
    "\n",
    "\n"
   ]
  },
  {
   "cell_type": "code",
   "execution_count": 5,
   "metadata": {},
   "outputs": [],
   "source": [
    "plt.show()\n"
   ]
  },
  {
   "cell_type": "code",
   "execution_count": 7,
   "metadata": {},
   "outputs": [
    {
     "data": {
      "image/png": "[encoded data removed]",
      "text/plain": [
       "<Figure size 432x288 with 1 Axes>"
      ]
     },
     "metadata": {
      "needs_background": "light"
     },
     "output_type": "display_data"
    }
   ],
   "source": [
    "img = img[..., ::-1]\n",
    "plt.imshow(img)\n",
    "plt.show()"
   ]
  },
  {
   "cell_type": "code",
   "execution_count": 8,
   "metadata": {},
   "outputs": [
    {
     "data": {
      "image/png": "[encoded data removed]",
      "text/plain": [
       "<Figure size 432x288 with 1 Axes>"
      ]
     },
     "metadata": {
      "needs_background": "light"
     },
     "output_type": "display_data"
    }
   ],
   "source": [
    "img = cv2.imread(\"../assets/imori.jpg\")\n",
    "img = img[..., ::-1]\n",
    "\n",
    "plt.imshow(img)\n",
    "plt.show()"
   ]
  },
  {
   "cell_type": "code",
   "execution_count": 9,
   "metadata": {},
   "outputs": [
    {
     "name": "stdout",
     "output_type": "stream",
     "text": [
      "min = 0\n",
      "max = 255\n"
     ]
    }
   ],
   "source": [
    "\n",
    "\n",
    "print('min =', img.min())\n",
    "print('max =', img.max())\n",
    "\n"
   ]
  },
  {
   "cell_type": "code",
   "execution_count": 10,
   "metadata": {},
   "outputs": [
    {
     "data": {
      "text/plain": [
       "array([[[ 67,  80, 132],\n",
       "        [ 39,  55, 104],\n",
       "        [ 36,  54, 100],\n",
       "        ...,\n",
       "        [110, 109, 175],\n",
       "        [ 70,  88, 134],\n",
       "        [100, 126, 163]],\n",
       "\n",
       "       [[ 71,  88, 140],\n",
       "        [ 52,  65, 117],\n",
       "        [ 47,  54, 106],\n",
       "        ...,\n",
       "        [135, 139, 177],\n",
       "        [123, 137, 176],\n",
       "        [ 91, 110, 152]],\n",
       "\n",
       "       [[ 69,  85, 137],\n",
       "        [ 66,  77, 131],\n",
       "        [ 60,  67, 119],\n",
       "        ...,\n",
       "        [148, 155, 207],\n",
       "        [159, 179, 232],\n",
       "        [ 82, 104, 161]],\n",
       "\n",
       "       ...,\n",
       "\n",
       "       [[152, 172, 231],\n",
       "        [ 80,  97, 153],\n",
       "        [ 97, 107, 160],\n",
       "        ...,\n",
       "        [ 38,  55, 107],\n",
       "        [ 38,  60, 101],\n",
       "        [ 36,  59,  93]],\n",
       "\n",
       "       [[176, 198, 255],\n",
       "        [ 95, 114, 172],\n",
       "        [104, 116, 168],\n",
       "        ...,\n",
       "        [ 58,  76, 150],\n",
       "        [ 35,  59, 119],\n",
       "        [ 33,  58, 112]],\n",
       "\n",
       "       [[130, 154, 214],\n",
       "        [109, 130, 187],\n",
       "        [112, 124, 176],\n",
       "        ...,\n",
       "        [ 94, 117, 185],\n",
       "        [ 71,  98, 151],\n",
       "        [ 39,  70, 116]]], dtype=uint8)"
      ]
     },
     "execution_count": 10,
     "metadata": {},
     "output_type": "execute_result"
    }
   ],
   "source": [
    "img\n"
   ]
  },
  {
   "cell_type": "code",
   "execution_count": 11,
   "metadata": {},
   "outputs": [],
   "source": [
    "r = img[..., 0]\n",
    "g = img[..., 1]\n",
    "b = img[..., 2]"
   ]
  },
  {
   "cell_type": "code",
   "execution_count": 12,
   "metadata": {},
   "outputs": [
    {
     "data": {
      "text/plain": [
       "array([[ 67,  39,  36, ..., 110,  70, 100],\n",
       "       [ 71,  52,  47, ..., 135, 123,  91],\n",
       "       [ 69,  66,  60, ..., 148, 159,  82],\n",
       "       ...,\n",
       "       [152,  80,  97, ...,  38,  38,  36],\n",
       "       [176,  95, 104, ...,  58,  35,  33],\n",
       "       [130, 109, 112, ...,  94,  71,  39]], dtype=uint8)"
      ]
     },
     "execution_count": 12,
     "metadata": {},
     "output_type": "execute_result"
    }
   ],
   "source": [
    "r"
   ]
  },
  {
   "cell_type": "code",
   "execution_count": 13,
   "metadata": {},
   "outputs": [
    {
     "data": {
      "text/plain": [
       "array([[ 80,  55,  54, ..., 109,  88, 126],\n",
       "       [ 88,  65,  54, ..., 139, 137, 110],\n",
       "       [ 85,  77,  67, ..., 155, 179, 104],\n",
       "       ...,\n",
       "       [172,  97, 107, ...,  55,  60,  59],\n",
       "       [198, 114, 116, ...,  76,  59,  58],\n",
       "       [154, 130, 124, ..., 117,  98,  70]], dtype=uint8)"
      ]
     },
     "execution_count": 13,
     "metadata": {},
     "output_type": "execute_result"
    }
   ],
   "source": [
    "g"
   ]
  },
  {
   "cell_type": "code",
   "execution_count": 14,
   "metadata": {},
   "outputs": [
    {
     "data": {
      "text/plain": [
       "array([[132, 104, 100, ..., 175, 134, 163],\n",
       "       [140, 117, 106, ..., 177, 176, 152],\n",
       "       [137, 131, 119, ..., 207, 232, 161],\n",
       "       ...,\n",
       "       [231, 153, 160, ..., 107, 101,  93],\n",
       "       [255, 172, 168, ..., 150, 119, 112],\n",
       "       [214, 187, 176, ..., 185, 151, 116]], dtype=uint8)"
      ]
     },
     "execution_count": 14,
     "metadata": {},
     "output_type": "execute_result"
    }
   ],
   "source": [
    "b"
   ]
  },
  {
   "cell_type": "code",
   "execution_count": 15,
   "metadata": {},
   "outputs": [
    {
     "data": {
      "image/png": "[encoded data removed]",
      "text/plain": [
       "<Figure size 432x288 with 3 Axes>"
      ]
     },
     "metadata": {
      "needs_background": "light"
     },
     "output_type": "display_data"
    }
   ],
   "source": [
    "\n",
    "plt.subplot(1, 3, 1)\n",
    "plt.title('R')\n",
    "plt.imshow(r, cmap='gray')\n",
    "plt.subplot(1, 3, 2)\n",
    "plt.title('G')\n",
    "plt.imshow(g, cmap='gray')\n",
    "plt.subplot(1, 3, 3)\n",
    "plt.title('B')\n",
    "plt.imshow(b, cmap='gray')\n",
    "plt.show()"
   ]
  },
  {
   "cell_type": "code",
   "execution_count": 16,
   "metadata": {},
   "outputs": [
    {
     "data": {
      "text/plain": [
       "(128, 128, 3)"
      ]
     },
     "execution_count": 16,
     "metadata": {},
     "output_type": "execute_result"
    }
   ],
   "source": [
    "img.shape"
   ]
  },
  {
   "cell_type": "code",
   "execution_count": 17,
   "metadata": {},
   "outputs": [
    {
     "data": {
      "text/plain": [
       "dtype('float32')"
      ]
     },
     "execution_count": 17,
     "metadata": {},
     "output_type": "execute_result"
    }
   ],
   "source": [
    "_img = img.astype(np.float32)\n",
    "_img.dtype"
   ]
  },
  {
   "cell_type": "code",
   "execution_count": 18,
   "metadata": {},
   "outputs": [
    {
     "name": "stderr",
     "output_type": "stream",
     "text": [
      "Clipping input data to the valid range for imshow with RGB data ([0..1] for floats or [0..255] for integers).\n"
     ]
    },
    {
     "data": {
      "image/png": "[encoded data removed]",
      "text/plain": [
       "<Figure size 432x288 with 1 Axes>"
      ]
     },
     "metadata": {
      "needs_background": "light"
     },
     "output_type": "display_data"
    }
   ],
   "source": [
    "\n",
    "\n",
    "plt.imshow(_img)\n",
    "plt.show()\n",
    "\n"
   ]
  },
  {
   "cell_type": "code",
   "execution_count": 19,
   "metadata": {},
   "outputs": [
    {
     "data": {
      "image/png": "[encoded data removed]",
      "text/plain": [
       "<Figure size 432x288 with 1 Axes>"
      ]
     },
     "metadata": {
      "needs_background": "light"
     },
     "output_type": "display_data"
    }
   ],
   "source": [
    "\n",
    "\n",
    "_img /= 255\n",
    "plt.imshow(_img)\n",
    "plt.show()\n",
    "\n"
   ]
  },
  {
   "cell_type": "code",
   "execution_count": 20,
   "metadata": {},
   "outputs": [
    {
     "data": {
      "text/plain": [
       "array([[[0.2627451 , 0.3137255 , 0.5176471 ],\n",
       "        [0.15294118, 0.21568628, 0.40784314],\n",
       "        [0.14117648, 0.21176471, 0.39215687],\n",
       "        ...,\n",
       "        [0.43137255, 0.42745098, 0.6862745 ],\n",
       "        [0.27450982, 0.34509805, 0.5254902 ],\n",
       "        [0.39215687, 0.49411765, 0.6392157 ]],\n",
       "\n",
       "       [[0.2784314 , 0.34509805, 0.54901963],\n",
       "        [0.20392157, 0.25490198, 0.45882353],\n",
       "        [0.18431373, 0.21176471, 0.41568628],\n",
       "        ...,\n",
       "        [0.5294118 , 0.54509807, 0.69411767],\n",
       "        [0.48235294, 0.5372549 , 0.6901961 ],\n",
       "        [0.35686275, 0.43137255, 0.59607846]],\n",
       "\n",
       "       [[0.27058825, 0.33333334, 0.5372549 ],\n",
       "        [0.25882354, 0.3019608 , 0.5137255 ],\n",
       "        [0.23529412, 0.2627451 , 0.46666667],\n",
       "        ...,\n",
       "        [0.5803922 , 0.60784316, 0.8117647 ],\n",
       "        [0.62352943, 0.7019608 , 0.9098039 ],\n",
       "        [0.32156864, 0.40784314, 0.6313726 ]],\n",
       "\n",
       "       ...,\n",
       "\n",
       "       [[0.59607846, 0.6745098 , 0.90588236],\n",
       "        [0.3137255 , 0.38039216, 0.6       ],\n",
       "        [0.38039216, 0.41960785, 0.627451  ],\n",
       "        ...,\n",
       "        [0.14901961, 0.21568628, 0.41960785],\n",
       "        [0.14901961, 0.23529412, 0.39607844],\n",
       "        [0.14117648, 0.23137255, 0.3647059 ]],\n",
       "\n",
       "       [[0.6901961 , 0.7764706 , 1.        ],\n",
       "        [0.37254903, 0.44705883, 0.6745098 ],\n",
       "        [0.40784314, 0.45490196, 0.65882355],\n",
       "        ...,\n",
       "        [0.22745098, 0.29803923, 0.5882353 ],\n",
       "        [0.13725491, 0.23137255, 0.46666667],\n",
       "        [0.12941177, 0.22745098, 0.4392157 ]],\n",
       "\n",
       "       [[0.50980395, 0.6039216 , 0.8392157 ],\n",
       "        [0.42745098, 0.50980395, 0.73333335],\n",
       "        [0.4392157 , 0.4862745 , 0.6901961 ],\n",
       "        ...,\n",
       "        [0.36862746, 0.45882353, 0.7254902 ],\n",
       "        [0.2784314 , 0.38431373, 0.5921569 ],\n",
       "        [0.15294118, 0.27450982, 0.45490196]]], dtype=float32)"
      ]
     },
     "execution_count": 20,
     "metadata": {},
     "output_type": "execute_result"
    }
   ],
   "source": [
    "_img"
   ]
  },
  {
   "cell_type": "code",
   "execution_count": 21,
   "metadata": {},
   "outputs": [
    {
     "data": {
      "text/plain": [
       "array([171, 178, 232], dtype=uint8)"
      ]
     },
     "execution_count": 21,
     "metadata": {},
     "output_type": "execute_result"
    }
   ],
   "source": [
    "img[20, 30]"
   ]
  },
  {
   "cell_type": "code",
   "execution_count": 22,
   "metadata": {},
   "outputs": [
    {
     "data": {
      "text/plain": [
       "178"
      ]
     },
     "execution_count": 22,
     "metadata": {},
     "output_type": "execute_result"
    }
   ],
   "source": [
    "img[20, 30, 1]"
   ]
  },
  {
   "cell_type": "code",
   "execution_count": 23,
   "metadata": {},
   "outputs": [
    {
     "data": {
      "text/plain": [
       "array([[171, 178, 232],\n",
       "       [153, 156, 209],\n",
       "       [ 77,  85, 134]], dtype=uint8)"
      ]
     },
     "execution_count": 23,
     "metadata": {},
     "output_type": "execute_result"
    }
   ],
   "source": [
    "img[20, 30:33]"
   ]
  },
  {
   "cell_type": "code",
   "execution_count": 25,
   "metadata": {},
   "outputs": [
    {
     "data": {
      "image/png": "[encoded data removed]",
      "text/plain": [
       "<Figure size 432x288 with 1 Axes>"
      ]
     },
     "metadata": {
      "needs_background": "light"
     },
     "output_type": "display_data"
    }
   ],
   "source": [
    "img2 = img.copy()\n",
    "img2[:50, :50] = 0\n",
    "plt.imshow(img2)\n",
    "plt.show()\n",
    "\n"
   ]
  },
  {
   "cell_type": "code",
   "execution_count": 27,
   "metadata": {},
   "outputs": [
    {
     "data": {
      "image/png": "[encoded data removed]",
      "text/plain": [
       "<Figure size 432x288 with 1 Axes>"
      ]
     },
     "metadata": {
      "needs_background": "light"
     },
     "output_type": "display_data"
    }
   ],
   "source": [
    "img2 = img.copy().astype(np.float32)\n",
    "img2[60:160, 60:160, 2] = 260\n",
    "img2 = img2.astype(np.uint8)\n",
    "plt.imshow(img2)\n",
    "plt.show()"
   ]
  },
  {
   "cell_type": "code",
   "execution_count": 28,
   "metadata": {},
   "outputs": [
    {
     "data": {
      "text/plain": [
       "True"
      ]
     },
     "execution_count": 28,
     "metadata": {},
     "output_type": "execute_result"
    }
   ],
   "source": [
    "cv2.imwrite('sample.png', img2)\n"
   ]
  },
  {
   "cell_type": "code",
   "execution_count": 29,
   "metadata": {},
   "outputs": [
    {
     "data": {
      "image/png": "[encoded data removed]",
      "text/plain": [
       "<Figure size 432x288 with 1 Axes>"
      ]
     },
     "metadata": {
      "needs_background": "light"
     },
     "output_type": "display_data"
    }
   ],
   "source": [
    "plt.imshow(img)\n",
    "plt.savefig('sample.png')"
   ]
  },
  {
   "cell_type": "code",
   "execution_count": 31,
   "metadata": {},
   "outputs": [],
   "source": [
    "\n",
    "\n",
    "img3 = img.copy()\n"
   ]
  },
  {
   "cell_type": "code",
   "execution_count": 32,
   "metadata": {},
   "outputs": [
    {
     "data": {
      "text/plain": [
       "(128, 128, 3)"
      ]
     },
     "execution_count": 32,
     "metadata": {},
     "output_type": "execute_result"
    }
   ],
   "source": [
    "img3.shape"
   ]
  },
  {
   "cell_type": "code",
   "execution_count": 33,
   "metadata": {},
   "outputs": [
    {
     "data": {
      "image/png": "[encoded data removed]",
      "text/plain": [
       "<Figure size 432x288 with 1 Axes>"
      ]
     },
     "metadata": {
      "needs_background": "light"
     },
     "output_type": "display_data"
    }
   ],
   "source": [
    "h, w, c = img3.shape\n",
    "img3[: h // 2, : w // 2] = img3[: h // 2, : w // 2, ::-1]\n",
    "plt.imshow(img3)\n",
    "plt.show()"
   ]
  },
  {
   "cell_type": "code",
   "execution_count": 35,
   "metadata": {},
   "outputs": [],
   "source": [
    "import cv2\n",
    "img = cv2.imread(\"../assets/imori.jpg\")\n"
   ]
  },
  {
   "cell_type": "code",
   "execution_count": 37,
   "metadata": {},
   "outputs": [
    {
     "data": {
      "text/plain": [
       "array([[[132,  80,  67],\n",
       "        [104,  55,  39],\n",
       "        [100,  54,  36],\n",
       "        ...,\n",
       "        [175, 109, 110],\n",
       "        [134,  88,  70],\n",
       "        [163, 126, 100]],\n",
       "\n",
       "       [[140,  88,  71],\n",
       "        [117,  65,  52],\n",
       "        [106,  54,  47],\n",
       "        ...,\n",
       "        [177, 139, 135],\n",
       "        [176, 137, 123],\n",
       "        [152, 110,  91]],\n",
       "\n",
       "       [[137,  85,  69],\n",
       "        [131,  77,  66],\n",
       "        [119,  67,  60],\n",
       "        ...,\n",
       "        [207, 155, 148],\n",
       "        [232, 179, 159],\n",
       "        [161, 104,  82]],\n",
       "\n",
       "       ...,\n",
       "\n",
       "       [[231, 172, 152],\n",
       "        [153,  97,  80],\n",
       "        [160, 107,  97],\n",
       "        ...,\n",
       "        [107,  55,  38],\n",
       "        [101,  60,  38],\n",
       "        [ 93,  59,  36]],\n",
       "\n",
       "       [[255, 198, 176],\n",
       "        [172, 114,  95],\n",
       "        [168, 116, 104],\n",
       "        ...,\n",
       "        [150,  76,  58],\n",
       "        [119,  59,  35],\n",
       "        [112,  58,  33]],\n",
       "\n",
       "       [[214, 154, 130],\n",
       "        [187, 130, 109],\n",
       "        [176, 124, 112],\n",
       "        ...,\n",
       "        [185, 117,  94],\n",
       "        [151,  98,  71],\n",
       "        [116,  70,  39]]], dtype=uint8)"
      ]
     },
     "execution_count": 37,
     "metadata": {},
     "output_type": "execute_result"
    }
   ],
   "source": [
    "img\n"
   ]
  },
  {
   "cell_type": "code",
   "execution_count": 38,
   "metadata": {},
   "outputs": [
    {
     "data": {
      "text/plain": [
       "<matplotlib.image.AxesImage at 0x7f52eaa86100>"
      ]
     },
     "execution_count": 38,
     "metadata": {},
     "output_type": "execute_result"
    },
    {
     "data": {
      "image/png": "[encoded data removed]",
      "text/plain": [
       "<Figure size 432x288 with 1 Axes>"
      ]
     },
     "metadata": {
      "needs_background": "light"
     },
     "output_type": "display_data"
    }
   ],
   "source": [
    "plt.imshow(img)\n"
   ]
  },
  {
   "cell_type": "code",
   "execution_count": 39,
   "metadata": {},
   "outputs": [],
   "source": [
    "img = img[..., ::-1]\n",
    "\n"
   ]
  },
  {
   "cell_type": "code",
   "execution_count": 41,
   "metadata": {},
   "outputs": [
    {
     "data": {
      "text/plain": [
       "<matplotlib.image.AxesImage at 0x7f52ea913220>"
      ]
     },
     "execution_count": 41,
     "metadata": {},
     "output_type": "execute_result"
    },
    {
     "data": {
      "image/png": "[encoded data removed]",
      "text/plain": [
       "<Figure size 432x288 with 1 Axes>"
      ]
     },
     "metadata": {
      "needs_background": "light"
     },
     "output_type": "display_data"
    }
   ],
   "source": [
    "plt.imshow(img)"
   ]
  },
  {
   "cell_type": "code",
   "execution_count": 2,
   "metadata": {},
   "outputs": [],
   "source": [
    "def load(fn):\n",
    "    img = cv2.imread(\"../assets/\" + fn)\n",
    "    img = img[..., ::-1]\n",
    "    return img \n",
    "\n",
    "def show(img):\n",
    "    plt.imshow(img)"
   ]
  },
  {
   "cell_type": "code",
   "execution_count": 7,
   "metadata": {},
   "outputs": [
    {
     "data": {
      "image/png": "[encoded data removed]",
      "text/plain": [
       "<Figure size 432x288 with 1 Axes>"
      ]
     },
     "metadata": {
      "needs_background": "light"
     },
     "output_type": "display_data"
    }
   ],
   "source": [
    "#Q1\n",
    "img = load(\"imori.jpg\")\n",
    "show(img)"
   ]
  },
  {
   "cell_type": "code",
   "execution_count": 8,
   "metadata": {},
   "outputs": [
    {
     "data": {
      "image/png": "[encoded data removed]",
      "text/plain": [
       "<Figure size 432x288 with 1 Axes>"
      ]
     },
     "metadata": {
      "needs_background": "light"
     },
     "output_type": "display_data"
    }
   ],
   "source": [
    "img2 = img.copy()\n",
    "img2[:,:,0] = img[:,:,2]\n",
    "img2[:,:,2] = img[:,:,0]\n",
    "show(img2)"
   ]
  },
  {
   "cell_type": "code",
   "execution_count": 47,
   "metadata": {},
   "outputs": [],
   "source": [
    "#Q2\n",
    "gs = img.copy()\n"
   ]
  },
  {
   "cell_type": "code",
   "execution_count": 52,
   "metadata": {},
   "outputs": [
    {
     "data": {
      "text/plain": [
       "(128, 128, 3)"
      ]
     },
     "execution_count": 52,
     "metadata": {},
     "output_type": "execute_result"
    }
   ],
   "source": [
    "gs.shape\n"
   ]
  },
  {
   "cell_type": "code",
   "execution_count": 53,
   "metadata": {},
   "outputs": [],
   "source": [
    "for r in range(gs.shape[0]):\n",
    "    for w in range(gs.shape[1]):\n",
    "        gs[r,w] = gs[r,w,0] * 0.2126 + gs[r,w,1]*0.7152 + gs[r,w,2]*0.0722\n",
    "    "
   ]
  },
  {
   "cell_type": "code",
   "execution_count": 54,
   "metadata": {},
   "outputs": [
    {
     "data": {
      "image/png": "[encoded data removed]",
      "text/plain": [
       "<Figure size 432x288 with 1 Axes>"
      ]
     },
     "metadata": {
      "needs_background": "light"
     },
     "output_type": "display_data"
    }
   ],
   "source": [
    "show(gs)"
   ]
  },
  {
   "cell_type": "code",
   "execution_count": 9,
   "metadata": {},
   "outputs": [
    {
     "data": {
      "image/png": "[encoded data removed]",
      "text/plain": [
       "<Figure size 432x288 with 1 Axes>"
      ]
     },
     "metadata": {
      "needs_background": "light"
     },
     "output_type": "display_data"
    }
   ],
   "source": [
    "gs = img.copy()\n",
    "show(gs)"
   ]
  },
  {
   "cell_type": "code",
   "execution_count": 56,
   "metadata": {},
   "outputs": [],
   "source": [
    "r = gs[:,:,0]"
   ]
  },
  {
   "cell_type": "code",
   "execution_count": 57,
   "metadata": {},
   "outputs": [
    {
     "data": {
      "text/plain": [
       "array([[ 67,  39,  36, ..., 110,  70, 100],\n",
       "       [ 71,  52,  47, ..., 135, 123,  91],\n",
       "       [ 69,  66,  60, ..., 148, 159,  82],\n",
       "       ...,\n",
       "       [152,  80,  97, ...,  38,  38,  36],\n",
       "       [176,  95, 104, ...,  58,  35,  33],\n",
       "       [130, 109, 112, ...,  94,  71,  39]], dtype=uint8)"
      ]
     },
     "execution_count": 57,
     "metadata": {},
     "output_type": "execute_result"
    }
   ],
   "source": [
    "r"
   ]
  },
  {
   "cell_type": "code",
   "execution_count": 10,
   "metadata": {},
   "outputs": [],
   "source": [
    "r = gs[:,:,0].copy()\n",
    "g = gs[:,:,1].copy()\n",
    "b = gs[:,:,2].copy()\n",
    "\n",
    "gss = r*0.2126 + g*0.7152 + b*0.0722"
   ]
  },
  {
   "cell_type": "code",
   "execution_count": 11,
   "metadata": {},
   "outputs": [
    {
     "data": {
      "image/png": "[encoded data removed]",
      "text/plain": [
       "<Figure size 432x288 with 1 Axes>"
      ]
     },
     "metadata": {
      "needs_background": "light"
     },
     "output_type": "display_data"
    }
   ],
   "source": [
    "show(gss)"
   ]
  },
  {
   "cell_type": "code",
   "execution_count": 60,
   "metadata": {},
   "outputs": [
    {
     "data": {
      "text/plain": [
       "array([[ 80.9906,  55.1362,  53.4944, ..., 113.9778,  87.4944, 123.1438],\n",
       "       [ 88.1402,  65.9906,  56.2662, ..., 140.8932, 136.8394, 108.993 ],\n",
       "       [ 85.3528,  78.5602,  69.2662, ..., 157.2662, 178.5746, 103.4382],\n",
       "       ...,\n",
       "       [172.0078,  97.429 , 108.7006, ...,  55.1402,  58.283 ,  56.565 ],\n",
       "       [197.4382, 114.1482, 117.2032, ...,  77.516 ,  58.2296,  56.5838],\n",
       "       [153.2296, 129.6508, 125.2032, ..., 117.0198,  96.0864,  66.7306]])"
      ]
     },
     "execution_count": 60,
     "metadata": {},
     "output_type": "execute_result"
    }
   ],
   "source": [
    "gss"
   ]
  },
  {
   "cell_type": "code",
   "execution_count": 1,
   "metadata": {},
   "outputs": [
    {
     "ename": "NameError",
     "evalue": "name 'gss' is not defined",
     "output_type": "error",
     "traceback": [
      "\u001b[0;31m---------------------------------------------------------------------------\u001b[0m",
      "\u001b[0;31mNameError\u001b[0m                                 Traceback (most recent call last)",
      "\u001b[0;32m<ipython-input-1-943c931fbdbd>\u001b[0m in \u001b[0;36m<module>\u001b[0;34m\u001b[0m\n\u001b[0;32m----> 1\u001b[0;31m \u001b[0mgss\u001b[0m \u001b[0;34m=\u001b[0m \u001b[0mgss\u001b[0m\u001b[0;34m.\u001b[0m\u001b[0mastype\u001b[0m\u001b[0;34m(\u001b[0m\u001b[0mnp\u001b[0m\u001b[0;34m.\u001b[0m\u001b[0muint8\u001b[0m\u001b[0;34m)\u001b[0m\u001b[0;34m\u001b[0m\u001b[0;34m\u001b[0m\u001b[0m\n\u001b[0m\u001b[1;32m      2\u001b[0m \u001b[0mshow\u001b[0m\u001b[0;34m(\u001b[0m\u001b[0mgss\u001b[0m\u001b[0;34m)\u001b[0m\u001b[0;34m\u001b[0m\u001b[0;34m\u001b[0m\u001b[0m\n",
      "\u001b[0;31mNameError\u001b[0m: name 'gss' is not defined"
     ]
    }
   ],
   "source": [
    "gss = gss.astype(np.uint8)\n",
    "show(gss)"
   ]
  },
  {
   "cell_type": "code",
   "execution_count": 80,
   "metadata": {},
   "outputs": [
    {
     "data": {
      "text/plain": [
       "array([[ 90,  64,  62, ..., 123,  96, 131],\n",
       "       [ 97,  75,  64, ..., 146, 144, 117],\n",
       "       [ 94,  87,  77, ..., 165, 188, 114],\n",
       "       ...,\n",
       "       [183, 107, 117, ...,  64,  67,  64],\n",
       "       [208, 124, 126, ...,  90,  70,  67],\n",
       "       [165, 140, 134, ..., 129, 107,  77]], dtype=uint8)"
      ]
     },
     "execution_count": 80,
     "metadata": {},
     "output_type": "execute_result"
    }
   ],
   "source": [
    "gss"
   ]
  },
  {
   "cell_type": "code",
   "execution_count": 65,
   "metadata": {},
   "outputs": [
    {
     "data": {
      "text/plain": [
       "<function ndarray.min>"
      ]
     },
     "execution_count": 65,
     "metadata": {},
     "output_type": "execute_result"
    }
   ],
   "source": [
    "gss.min"
   ]
  },
  {
   "cell_type": "code",
   "execution_count": 66,
   "metadata": {},
   "outputs": [
    {
     "data": {
      "text/plain": [
       "6"
      ]
     },
     "execution_count": 66,
     "metadata": {},
     "output_type": "execute_result"
    }
   ],
   "source": [
    "gss.min()"
   ]
  },
  {
   "cell_type": "code",
   "execution_count": 67,
   "metadata": {},
   "outputs": [
    {
     "data": {
      "text/plain": [
       "254"
      ]
     },
     "execution_count": 67,
     "metadata": {},
     "output_type": "execute_result"
    }
   ],
   "source": [
    "gss.max()\n"
   ]
  },
  {
   "cell_type": "code",
   "execution_count": 82,
   "metadata": {},
   "outputs": [
    {
     "data": {
      "image/png": "[encoded data removed]",
      "text/plain": [
       "<Figure size 432x288 with 1 Axes>"
      ]
     },
     "metadata": {
      "needs_background": "light"
     },
     "output_type": "display_data"
    }
   ],
   "source": [
    "show([[1,2,3],[4,5,6],[7,8,9]])"
   ]
  },
  {
   "cell_type": "code",
   "execution_count": null,
   "metadata": {},
   "outputs": [],
   "source": [
    "cv2.imshow(\"result\", gss)"
   ]
  },
  {
   "cell_type": "code",
   "execution_count": 12,
   "metadata": {},
   "outputs": [],
   "source": [
    "#q3\n",
    "gs = img.copy()\n",
    "for r in range(gs.shape[0]):\n",
    "    for w in range(gs.shape[1]):\n",
    "        val = gs[r,w,0] * 0.2126 + gs[r,w,1]*0.7152 + gs[r,w,2]*0.0722\n",
    "        if val < 128:\n",
    "            gs[r,w]=0\n",
    "        else:\n",
    "            gs[r,w]=255"
   ]
  },
  {
   "cell_type": "code",
   "execution_count": 13,
   "metadata": {},
   "outputs": [
    {
     "data": {
      "image/png": "[encoded data removed]",
      "text/plain": [
       "<Figure size 432x288 with 1 Axes>"
      ]
     },
     "metadata": {
      "needs_background": "light"
     },
     "output_type": "display_data"
    }
   ],
   "source": [
    "show(gs)"
   ]
  },
  {
   "cell_type": "code",
   "execution_count": 3,
   "metadata": {},
   "outputs": [],
   "source": [
    "p=np.array([[1,2,3],[4,5,6]])"
   ]
  },
  {
   "cell_type": "code",
   "execution_count": 5,
   "metadata": {},
   "outputs": [
    {
     "ename": "IndexError",
     "evalue": "too many indices for array: array is 1-dimensional, but 2 were indexed",
     "output_type": "error",
     "traceback": [
      "\u001b[0;31m---------------------------------------------------------------------------\u001b[0m",
      "\u001b[0;31mIndexError\u001b[0m                                Traceback (most recent call last)",
      "\u001b[0;32m<ipython-input-5-a0f3405905f8>\u001b[0m in \u001b[0;36m<module>\u001b[0;34m\u001b[0m\n\u001b[0;32m----> 1\u001b[0;31m \u001b[0mp\u001b[0m\u001b[0;34m=\u001b[0m\u001b[0mp\u001b[0m\u001b[0;34m[\u001b[0m\u001b[0;34m:\u001b[0m\u001b[0;34m,\u001b[0m\u001b[0;36m0\u001b[0m\u001b[0;34m]\u001b[0m\u001b[0;34m*\u001b[0m\u001b[0;36m2\u001b[0m\u001b[0;34m+\u001b[0m\u001b[0mp\u001b[0m\u001b[0;34m[\u001b[0m\u001b[0;34m:\u001b[0m\u001b[0;34m,\u001b[0m\u001b[0;36m1\u001b[0m\u001b[0;34m]\u001b[0m\u001b[0;34m*\u001b[0m\u001b[0;36m3\u001b[0m\u001b[0;34m\u001b[0m\u001b[0;34m\u001b[0m\u001b[0m\n\u001b[0m",
      "\u001b[0;31mIndexError\u001b[0m: too many indices for array: array is 1-dimensional, but 2 were indexed"
     ]
    }
   ],
   "source": [
    "p=p[:,0]*2+p[:,1]*3"
   ]
  },
  {
   "cell_type": "code",
   "execution_count": 6,
   "metadata": {},
   "outputs": [
    {
     "data": {
      "text/plain": [
       "array([ 8, 23])"
      ]
     },
     "execution_count": 6,
     "metadata": {},
     "output_type": "execute_result"
    }
   ],
   "source": [
    "p"
   ]
  },
  {
   "cell_type": "code",
   "execution_count": 7,
   "metadata": {},
   "outputs": [],
   "source": [
    "p=np.array([[1,2,3],[4,5,6]])"
   ]
  },
  {
   "cell_type": "code",
   "execution_count": 8,
   "metadata": {},
   "outputs": [
    {
     "data": {
      "text/plain": [
       "array([[1, 2, 3],\n",
       "       [4, 5, 6]])"
      ]
     },
     "execution_count": 8,
     "metadata": {},
     "output_type": "execute_result"
    }
   ],
   "source": [
    "p"
   ]
  },
  {
   "cell_type": "code",
   "execution_count": 9,
   "metadata": {},
   "outputs": [
    {
     "data": {
      "text/plain": [
       "array([1, 4])"
      ]
     },
     "execution_count": 9,
     "metadata": {},
     "output_type": "execute_result"
    }
   ],
   "source": [
    "p[:,0]"
   ]
  },
  {
   "cell_type": "code",
   "execution_count": 10,
   "metadata": {},
   "outputs": [
    {
     "data": {
      "text/plain": [
       "array([1, 4])"
      ]
     },
     "execution_count": 10,
     "metadata": {},
     "output_type": "execute_result"
    }
   ],
   "source": [
    "p[...,0]"
   ]
  },
  {
   "cell_type": "code",
   "execution_count": 11,
   "metadata": {},
   "outputs": [
    {
     "data": {
      "text/plain": [
       "array([3, 9])"
      ]
     },
     "execution_count": 11,
     "metadata": {},
     "output_type": "execute_result"
    }
   ],
   "source": [
    "p[:,0]+p[:,1]"
   ]
  },
  {
   "cell_type": "code",
   "execution_count": 12,
   "metadata": {},
   "outputs": [],
   "source": [
    "p=np.array([[1,2,3],[4,5,6]])"
   ]
  },
  {
   "cell_type": "code",
   "execution_count": 13,
   "metadata": {},
   "outputs": [
    {
     "data": {
      "image/png": "[encoded data removed]",
      "text/plain": [
       "<Figure size 432x288 with 1 Axes>"
      ]
     },
     "metadata": {
      "needs_background": "light"
     },
     "output_type": "display_data"
    }
   ],
   "source": [
    "show(p)"
   ]
  },
  {
   "cell_type": "code",
   "execution_count": 14,
   "metadata": {},
   "outputs": [
    {
     "data": {
      "text/plain": [
       "array([[1, 2, 3],\n",
       "       [4, 5, 6]])"
      ]
     },
     "execution_count": 14,
     "metadata": {},
     "output_type": "execute_result"
    }
   ],
   "source": [
    "p\n"
   ]
  },
  {
   "cell_type": "code",
   "execution_count": 15,
   "metadata": {},
   "outputs": [
    {
     "ename": "NameError",
     "evalue": "name 'img' is not defined",
     "output_type": "error",
     "traceback": [
      "\u001b[0;31m---------------------------------------------------------------------------\u001b[0m",
      "\u001b[0;31mNameError\u001b[0m                                 Traceback (most recent call last)",
      "\u001b[0;32m<ipython-input-15-8d9c57b3b3ab>\u001b[0m in \u001b[0;36m<module>\u001b[0;34m\u001b[0m\n\u001b[0;32m----> 1\u001b[0;31m \u001b[0mr\u001b[0m \u001b[0;34m=\u001b[0m \u001b[0mimg\u001b[0m\u001b[0;34m[\u001b[0m\u001b[0;34m:\u001b[0m\u001b[0;34m,\u001b[0m\u001b[0;34m:\u001b[0m\u001b[0;34m,\u001b[0m\u001b[0;36m0\u001b[0m\u001b[0;34m]\u001b[0m\u001b[0;34m.\u001b[0m\u001b[0mcopy\u001b[0m\u001b[0;34m(\u001b[0m\u001b[0;34m)\u001b[0m\u001b[0;34m\u001b[0m\u001b[0;34m\u001b[0m\u001b[0m\n\u001b[0m\u001b[1;32m      2\u001b[0m \u001b[0mg\u001b[0m \u001b[0;34m=\u001b[0m \u001b[0mimg\u001b[0m\u001b[0;34m[\u001b[0m\u001b[0;34m:\u001b[0m\u001b[0;34m,\u001b[0m\u001b[0;34m:\u001b[0m\u001b[0;34m,\u001b[0m\u001b[0;36m1\u001b[0m\u001b[0;34m]\u001b[0m\u001b[0;34m.\u001b[0m\u001b[0mcopy\u001b[0m\u001b[0;34m(\u001b[0m\u001b[0;34m)\u001b[0m\u001b[0;34m\u001b[0m\u001b[0;34m\u001b[0m\u001b[0m\n\u001b[1;32m      3\u001b[0m \u001b[0mb\u001b[0m \u001b[0;34m=\u001b[0m \u001b[0mimg\u001b[0m\u001b[0;34m[\u001b[0m\u001b[0;34m:\u001b[0m\u001b[0;34m,\u001b[0m\u001b[0;34m:\u001b[0m\u001b[0;34m,\u001b[0m\u001b[0;36m2\u001b[0m\u001b[0;34m]\u001b[0m\u001b[0;34m.\u001b[0m\u001b[0mcopy\u001b[0m\u001b[0;34m(\u001b[0m\u001b[0;34m)\u001b[0m\u001b[0;34m\u001b[0m\u001b[0;34m\u001b[0m\u001b[0m\n\u001b[1;32m      4\u001b[0m \u001b[0;34m\u001b[0m\u001b[0m\n\u001b[1;32m      5\u001b[0m \u001b[0mgss\u001b[0m \u001b[0;34m=\u001b[0m \u001b[0mr\u001b[0m\u001b[0;34m*\u001b[0m\u001b[0;36m0.2126\u001b[0m \u001b[0;34m+\u001b[0m \u001b[0mg\u001b[0m\u001b[0;34m*\u001b[0m\u001b[0;36m0.7152\u001b[0m \u001b[0;34m+\u001b[0m \u001b[0mb\u001b[0m\u001b[0;34m*\u001b[0m\u001b[0;36m0.0722\u001b[0m\u001b[0;34m\u001b[0m\u001b[0;34m\u001b[0m\u001b[0m\n",
      "\u001b[0;31mNameError\u001b[0m: name 'img' is not defined"
     ]
    }
   ],
   "source": [
    "r = img[:,:,0].copy()\n",
    "g = img[:,:,1].copy()\n",
    "b = img[:,:,2].copy()\n",
    "\n",
    "gss = r*0.2126 + g*0.7152 + b*0.0722"
   ]
  },
  {
   "cell_type": "code",
   "execution_count": 16,
   "metadata": {},
   "outputs": [],
   "source": [
    "img = load(\"imori.jpg\")\n"
   ]
  },
  {
   "cell_type": "code",
   "execution_count": 17,
   "metadata": {},
   "outputs": [
    {
     "data": {
      "image/png": "[encoded data removed]",
      "text/plain": [
       "<Figure size 432x288 with 1 Axes>"
      ]
     },
     "metadata": {
      "needs_background": "light"
     },
     "output_type": "display_data"
    }
   ],
   "source": [
    "show(img)"
   ]
  },
  {
   "cell_type": "code",
   "execution_count": 18,
   "metadata": {},
   "outputs": [],
   "source": [
    "r = img[:,:,0].copy()\n",
    "g = img[:,:,1].copy()\n",
    "b = img[:,:,2].copy()\n",
    "\n",
    "gss = r*0.2126 + g*0.7152 + b*0.0722"
   ]
  },
  {
   "cell_type": "code",
   "execution_count": 19,
   "metadata": {},
   "outputs": [
    {
     "data": {
      "image/png": "[encoded data removed]",
      "text/plain": [
       "<Figure size 432x288 with 1 Axes>"
      ]
     },
     "metadata": {
      "needs_background": "light"
     },
     "output_type": "display_data"
    }
   ],
   "source": [
    "show(gss)"
   ]
  },
  {
   "cell_type": "code",
   "execution_count": 20,
   "metadata": {},
   "outputs": [
    {
     "data": {
      "text/plain": [
       "array([[ 80.9906,  55.1362,  53.4944, ..., 113.9778,  87.4944, 123.1438],\n",
       "       [ 88.1402,  65.9906,  56.2662, ..., 140.8932, 136.8394, 108.993 ],\n",
       "       [ 85.3528,  78.5602,  69.2662, ..., 157.2662, 178.5746, 103.4382],\n",
       "       ...,\n",
       "       [172.0078,  97.429 , 108.7006, ...,  55.1402,  58.283 ,  56.565 ],\n",
       "       [197.4382, 114.1482, 117.2032, ...,  77.516 ,  58.2296,  56.5838],\n",
       "       [153.2296, 129.6508, 125.2032, ..., 117.0198,  96.0864,  66.7306]])"
      ]
     },
     "execution_count": 20,
     "metadata": {},
     "output_type": "execute_result"
    }
   ],
   "source": [
    "gss"
   ]
  },
  {
   "cell_type": "code",
   "execution_count": 22,
   "metadata": {},
   "outputs": [],
   "source": [
    "gss =gss.astype(np.uint8)"
   ]
  },
  {
   "cell_type": "code",
   "execution_count": 23,
   "metadata": {},
   "outputs": [
    {
     "data": {
      "image/png": "[encoded data removed]",
      "text/plain": [
       "<Figure size 432x288 with 1 Axes>"
      ]
     },
     "metadata": {
      "needs_background": "light"
     },
     "output_type": "display_data"
    }
   ],
   "source": [
    "show(gss)"
   ]
  },
  {
   "cell_type": "code",
   "execution_count": 24,
   "metadata": {},
   "outputs": [],
   "source": [
    "gs = img.copy()"
   ]
  },
  {
   "cell_type": "code",
   "execution_count": 26,
   "metadata": {},
   "outputs": [],
   "source": [
    "gs[:,:,0] = gss[:,:]\n",
    "gs[:,:,1] = gss[:,:]\n",
    "gs[:,:,2] = gss[:,:]"
   ]
  },
  {
   "cell_type": "code",
   "execution_count": 27,
   "metadata": {},
   "outputs": [
    {
     "data": {
      "text/plain": [
       "array([[[ 80,  80,  80],\n",
       "        [ 55,  55,  55],\n",
       "        [ 53,  53,  53],\n",
       "        ...,\n",
       "        [113, 113, 113],\n",
       "        [ 87,  87,  87],\n",
       "        [123, 123, 123]],\n",
       "\n",
       "       [[ 88,  88,  88],\n",
       "        [ 65,  65,  65],\n",
       "        [ 56,  56,  56],\n",
       "        ...,\n",
       "        [140, 140, 140],\n",
       "        [136, 136, 136],\n",
       "        [108, 108, 108]],\n",
       "\n",
       "       [[ 85,  85,  85],\n",
       "        [ 78,  78,  78],\n",
       "        [ 69,  69,  69],\n",
       "        ...,\n",
       "        [157, 157, 157],\n",
       "        [178, 178, 178],\n",
       "        [103, 103, 103]],\n",
       "\n",
       "       ...,\n",
       "\n",
       "       [[172, 172, 172],\n",
       "        [ 97,  97,  97],\n",
       "        [108, 108, 108],\n",
       "        ...,\n",
       "        [ 55,  55,  55],\n",
       "        [ 58,  58,  58],\n",
       "        [ 56,  56,  56]],\n",
       "\n",
       "       [[197, 197, 197],\n",
       "        [114, 114, 114],\n",
       "        [117, 117, 117],\n",
       "        ...,\n",
       "        [ 77,  77,  77],\n",
       "        [ 58,  58,  58],\n",
       "        [ 56,  56,  56]],\n",
       "\n",
       "       [[153, 153, 153],\n",
       "        [129, 129, 129],\n",
       "        [125, 125, 125],\n",
       "        ...,\n",
       "        [117, 117, 117],\n",
       "        [ 96,  96,  96],\n",
       "        [ 66,  66,  66]]], dtype=uint8)"
      ]
     },
     "execution_count": 27,
     "metadata": {},
     "output_type": "execute_result"
    }
   ],
   "source": [
    "gs"
   ]
  },
  {
   "cell_type": "code",
   "execution_count": 28,
   "metadata": {},
   "outputs": [
    {
     "data": {
      "image/png": "[encoded data removed]",
      "text/plain": [
       "<Figure size 432x288 with 1 Axes>"
      ]
     },
     "metadata": {
      "needs_background": "light"
     },
     "output_type": "display_data"
    }
   ],
   "source": [
    "show(gs)"
   ]
  },
  {
   "cell_type": "code",
   "execution_count": 24,
   "metadata": {},
   "outputs": [
    {
     "data": {
      "image/png": "[encoded data removed]",
      "text/plain": [
       "<Figure size 432x288 with 1 Axes>"
      ]
     },
     "metadata": {
      "needs_background": "light"
     },
     "output_type": "display_data"
    }
   ],
   "source": [
    "#Q2\n",
    "def gray_scale(imag):\n",
    "    r = imag[:,:,0].copy()\n",
    "    g = imag[:,:,1].copy()\n",
    "    b = imag[:,:,2].copy()\n",
    "\n",
    "    gss = r*0.2126 + g*0.7152 + b*0.0722\n",
    "    gs = imag.copy()\n",
    "    gs[:,:,0] = gss[:,:]\n",
    "    gs[:,:,1] = gss[:,:]\n",
    "    gs[:,:,2] = gss[:,:]\n",
    "    return gs\n",
    "\n",
    "show(gray_scale(img))\n",
    "\n",
    "\n",
    "def gray_scale_single(imag):\n",
    "    r = imag[:,:,0].copy()\n",
    "    g = imag[:,:,1].copy()\n",
    "    b = imag[:,:,2].copy()\n",
    "\n",
    "    return (r*0.2126 + g*0.7152 + b*0.0722).astype(np.uint8)\n",
    "\n",
    "def gray_scale_triple(gimag):\n",
    "    t = np.zeros([gimag.shape[0], gimag.shape[1], 3]).astype(np.uint8)\n",
    "    t[:,:,0] = gimag\n",
    "    t[:,:,1] = gimag\n",
    "    t[:,:,2] = gimag\n",
    "    return t\n"
   ]
  },
  {
   "cell_type": "code",
   "execution_count": 37,
   "metadata": {},
   "outputs": [
    {
     "data": {
      "image/png": "[encoded data removed]",
      "text/plain": [
       "<Figure size 432x288 with 1 Axes>"
      ]
     },
     "metadata": {
      "needs_background": "light"
     },
     "output_type": "display_data"
    }
   ],
   "source": [
    "#Q3\n",
    "def binary(imag):\n",
    "    gs = gray_scale(imag)\n",
    "    binimg = gs >=128\n",
    "    binimg = binimg*255\n",
    "    return binimg.astype(np.uint8)\n",
    "def binary2(imag):\n",
    "    gs = gray_scale(imag)\n",
    "    binimg = np.minimum(gs//128, 1)*255\n",
    "    return binimg.astype(np.uint8)\n",
    "show(binary(img))"
   ]
  },
  {
   "cell_type": "code",
   "execution_count": 53,
   "metadata": {},
   "outputs": [
    {
     "data": {
      "text/plain": [
       "83"
      ]
     },
     "execution_count": 53,
     "metadata": {},
     "output_type": "execute_result"
    }
   ],
   "source": [
    "max_sigma = -1\n",
    "max_th = -1\n",
    "ot = img.copy()\n",
    "for th in range(256):\n",
    "    r = img[:,:,0].copy()\n",
    "    g = img[:,:,1].copy()\n",
    "    b = img[:,:,2].copy()\n",
    "\n",
    "    gss = r*0.2126 + g*0.7152 + b*0.0722\n",
    "    gss = gss.astype(np.uint8)\n",
    "    w0 = np.sum(gss < th)\n",
    "    w1 = np.sum(gss >= th)\n",
    "    c0 = (gss * (gss < th))\n",
    "    c0 = c0.astype(np.float)\n",
    "    c1 = (gss * (gss >= th))\n",
    "    c1 = c1.astype(np.float)\n",
    "    M0 = np.sum(c0) / np.size(c0)\n",
    "    M1 = np.sum(c1) / np.size(c1)\n",
    "    sigma_b_two = 1.0 * w0 * w1 * (M0-M1)*(M0-M1)/((w0+w1)*(w0+w1))\n",
    "    if max_sigma < sigma_b_two:\n",
    "        max_sigma = sigma_b_two\n",
    "        max_th = th\n",
    "        \n",
    "max_th"
   ]
  },
  {
   "cell_type": "code",
   "execution_count": 71,
   "metadata": {},
   "outputs": [
    {
     "data": {
      "image/png": "[encoded data removed]",
      "text/plain": [
       "<Figure size 432x288 with 1 Axes>"
      ]
     },
     "metadata": {
      "needs_background": "light"
     },
     "output_type": "display_data"
    }
   ],
   "source": [
    "#Q4\n",
    "def otsu_binary0(imag):  \n",
    "    max_sigma = -1\n",
    "    max_th = -1\n",
    "    ot = imag.copy()\n",
    "    for th in range(256):\n",
    "        r = imag[:,:,0].copy()\n",
    "        g = imag[:,:,1].copy()\n",
    "        b = imag[:,:,2].copy()\n",
    "\n",
    "        gss = r*0.2126 + g*0.7152 + b*0.0722\n",
    "        gss = gss.astype(np.uint8)\n",
    "        w0 = np.sum(gss < th)\n",
    "        w1 = np.sum(gss >= th)\n",
    "        c0 = (gss * (gss < th)).astype(np.float)\n",
    "        c1 = (gss * (gss >= th)).astype(np.float)\n",
    "        if w0 == 0 or w1 == 0:\n",
    "            continue\n",
    "        M0 = np.sum(c0) / w0\n",
    "        M1 = np.sum(c1) / w1\n",
    "        sigma_b_two = 1.0 * w0 * w1 * (M0-M1)*(M0-M1) #/((w0+w1)*(w0+w1))\n",
    "        if max_sigma < sigma_b_two:\n",
    "            max_sigma = sigma_b_two\n",
    "            max_th = th\n",
    "        #print(th,w0,w1,int(M0),int(M1),int(sigma_b_two))\n",
    "    gs = gray_scale(imag)\n",
    "    binimg = gs >= max_th\n",
    "    binimg = binimg*255\n",
    "    return binimg.astype(np.uint8)\n",
    "\n",
    "def otsu_binary(imag):  \n",
    "    max_sigma = -1\n",
    "    max_th = -1\n",
    "    ot = imag.copy()\n",
    "    for th in range(256):\n",
    "        r = imag[:,:,0].copy()\n",
    "        g = imag[:,:,1].copy()\n",
    "        b = imag[:,:,2].copy()\n",
    "\n",
    "        gss = r*0.2126 + g*0.7152 + b*0.0722\n",
    "        gss = gss.astype(np.uint8)\n",
    "        w0 = np.sum(gss < th)\n",
    "        w1 = np.sum(gss >= th)\n",
    "        if w0 == 0 or w1 == 0:\n",
    "            continue\n",
    "        M0 = gss[gss < th].mean()\n",
    "        M1 = gss[gss >= th].mean()\n",
    "        sigma_b_two = 1.0 * w0 * w1 * (M0-M1)*(M0-M1) #/((w0+w1)*(w0+w1))\n",
    "        if max_sigma < sigma_b_two:\n",
    "            max_sigma = sigma_b_two\n",
    "            max_th = th\n",
    "        #print(th,w0,w1,int(M0),int(M1),int(sigma_b_two))\n",
    "    gs = gray_scale(imag)\n",
    "    binimg = gs >= max_th\n",
    "    binimg = binimg*255\n",
    "    return binimg.astype(np.uint8)\n",
    "\n",
    "show(otsu_binary(img))"
   ]
  },
  {
   "cell_type": "code",
   "execution_count": 57,
   "metadata": {},
   "outputs": [],
   "source": [
    "img = load(\"imori_256x256.png\")"
   ]
  },
  {
   "cell_type": "code",
   "execution_count": 74,
   "metadata": {},
   "outputs": [],
   "source": [
    "x = np.array([[1,2,3],[4,5,6]])"
   ]
  },
  {
   "cell_type": "code",
   "execution_count": 75,
   "metadata": {},
   "outputs": [
    {
     "data": {
      "text/plain": [
       "array([3, 4, 5, 6])"
      ]
     },
     "execution_count": 75,
     "metadata": {},
     "output_type": "execute_result"
    }
   ],
   "source": [
    "x[x>2]"
   ]
  },
  {
   "cell_type": "code",
   "execution_count": 76,
   "metadata": {},
   "outputs": [
    {
     "data": {
      "text/plain": [
       "array([[1, 2, 3],\n",
       "       [4, 5, 6]])"
      ]
     },
     "execution_count": 76,
     "metadata": {},
     "output_type": "execute_result"
    }
   ],
   "source": [
    "x"
   ]
  },
  {
   "cell_type": "code",
   "execution_count": 77,
   "metadata": {},
   "outputs": [
    {
     "data": {
      "image/png": "[encoded data removed]",
      "text/plain": [
       "<Figure size 432x288 with 1 Axes>"
      ]
     },
     "metadata": {
      "needs_background": "light"
     },
     "output_type": "display_data"
    }
   ],
   "source": [
    "#Q5\n",
    "\n",
    "show(img)"
   ]
  },
  {
   "cell_type": "code",
   "execution_count": 82,
   "metadata": {},
   "outputs": [],
   "source": [
    "hsvt = img.copy().astype(np.float)\n",
    "hsvt = hsvt / 255.0\n",
    "for i in range(256):\n",
    "    for j in range(256):\n",
    "        mx = hsvt[i][j].max()\n",
    "        mn = hsvt[i][j].min()\n",
    "        S = mx-mn\n",
    "        V = mx\n",
    "        r = hsvt[i][j][0]\n",
    "        g = hsvt[i][j][1]\n",
    "        b = hsvt[i][j][2]\n",
    "        H = 0\n",
    "        if mx-mn > 0:\n",
    "            if mn==b:\n",
    "                H = 60.0 + 60.0 *(g-r)/ (mx-mn)\n",
    "            elif mn==r:\n",
    "                H = 180.0 + 60.0*(b-g)/ (mx-mn)\n",
    "            else:\n",
    "                H = 300.0 + 60.0*(r-b) /(mx-mn)\n",
    "        \n"
   ]
  },
  {
   "cell_type": "code",
   "execution_count": 129,
   "metadata": {},
   "outputs": [
    {
     "data": {
      "image/png": "[encoded data removed]",
      "text/plain": [
       "<Figure size 432x288 with 1 Axes>"
      ]
     },
     "metadata": {
      "needs_background": "light"
     },
     "output_type": "display_data"
    }
   ],
   "source": [
    "def rgb2hsv(imag):\n",
    "    hsvt = imag.copy().astype(np.float)\n",
    "    hsvt = hsvt / 255.0\n",
    "    for i in range(hsvt.shape[0]):\n",
    "        for j in range(hsvt.shape[1]):\n",
    "            mx = hsvt[i][j].max()\n",
    "            mn = hsvt[i][j].min()\n",
    "            r = hsvt[i][j][0]\n",
    "            g = hsvt[i][j][1]\n",
    "            b = hsvt[i][j][2]\n",
    "            H = 0\n",
    "            if mx-mn > 0:\n",
    "                if mn==b:\n",
    "                    H = 60.0 + 60.0 *(g-r)/ (mx-mn)\n",
    "                elif mn==r:\n",
    "                    H = 180.0 + 60.0*(b-g)/ (mx-mn)\n",
    "                else:\n",
    "                    H = 300.0 + 60.0*(r-b) /(mx-mn)\n",
    "            S = mx-mn\n",
    "            V = mx\n",
    "            hsvt[i][j][0] = H\n",
    "            hsvt[i][j][1] = S\n",
    "            hsvt[i][j][2] = V\n",
    "\n",
    "    return hsvt\n",
    "\n",
    "def hsv2rgb(imag):\n",
    "    rgbt = imag.copy().astype(np.float)\n",
    "    for i in range(rgbt.shape[0]):\n",
    "        for j in range(rgbt.shape[1]):\n",
    "            C = rgbt[i][j][1]\n",
    "            HH = rgbt[i][j][0] / 60.0\n",
    "            HH_I = int(HH)\n",
    "            HH_F = HH - HH_I\n",
    "            X = C *(1 - np.abs(-1 + HH_F + HH_I % 2))\n",
    "            V = rgbt[i][j][2]\n",
    "            if HH < 1:\n",
    "                R = V - C + C\n",
    "                G = V - C + X\n",
    "                B = V - C + 0\n",
    "            elif HH < 2:\n",
    "                R = V - C + X\n",
    "                G = V - C + C\n",
    "                B = V - C + 0 \n",
    "            elif HH < 3:\n",
    "                R = V - C + 0\n",
    "                G = V - C + C\n",
    "                B = V - C + X \n",
    "            elif HH < 4:\n",
    "                R = V - C + 0\n",
    "                G = V - C + X\n",
    "                B = V - C + C \n",
    "            elif HH < 5:\n",
    "                R = V - C + X\n",
    "                G = V - C + 0\n",
    "                B = V - C + C \n",
    "            elif HH < 6:\n",
    "                R = V - C + C\n",
    "                G = V - C + 0\n",
    "                B = V - C + X\n",
    "            else:\n",
    "                R = V - C + 0\n",
    "                G = V - C + 0\n",
    "                B = V - C + 0\n",
    "            rgbt[i][j][0] = R\n",
    "            rgbt[i][j][1] = G\n",
    "            rgbt[i][j][2] = B\n",
    "    rgbt = rgbt * 255\n",
    "    return rgbt.astype(np.uint8)\n",
    "\n",
    "show(hsv2rgb(rgb2hsv(img)))\n",
    "#hsv2rgb(rgb2hsv(img))\n",
    "#show(img)"
   ]
  },
  {
   "cell_type": "code",
   "execution_count": 93,
   "metadata": {},
   "outputs": [
    {
     "data": {
      "image/png": "[encoded data removed]",
      "text/plain": [
       "<Figure size 432x288 with 1 Axes>"
      ]
     },
     "metadata": {
      "needs_background": "light"
     },
     "output_type": "display_data"
    }
   ],
   "source": [
    "show(img)"
   ]
  },
  {
   "cell_type": "code",
   "execution_count": 94,
   "metadata": {},
   "outputs": [
    {
     "data": {
      "text/plain": [
       "array([[[ 46, 137, 137],\n",
       "        [ 43, 115, 115],\n",
       "        [ 36,  89,  89],\n",
       "        ...,\n",
       "        [ 84,  84, 122],\n",
       "        [115, 115, 145],\n",
       "        [144, 144, 169]],\n",
       "\n",
       "       [[ 69, 134, 134],\n",
       "        [ 59, 121, 121],\n",
       "        [ 43,  92,  92],\n",
       "        ...,\n",
       "        [ 79, 136, 136],\n",
       "        [102, 158, 158],\n",
       "        [119, 177, 177]],\n",
       "\n",
       "       [[ 74, 144, 144],\n",
       "        [ 60, 138, 138],\n",
       "        [ 51, 112, 112],\n",
       "        ...,\n",
       "        [104, 165, 165],\n",
       "        [ 90, 163, 163],\n",
       "        [ 89, 171, 171]],\n",
       "\n",
       "       ...,\n",
       "\n",
       "       [[169, 255, 255],\n",
       "        [134, 240, 240],\n",
       "        [ 91, 196, 196],\n",
       "        ...,\n",
       "        [ 41, 128, 128],\n",
       "        [ 36, 116, 116],\n",
       "        [ 35, 110, 110]],\n",
       "\n",
       "       [[119, 241, 241],\n",
       "        [ 96, 219, 219],\n",
       "        [ 89, 198, 198],\n",
       "        ...,\n",
       "        [ 52, 129, 129],\n",
       "        [ 45, 123, 123],\n",
       "        [ 43, 120, 120]],\n",
       "\n",
       "       [[ 96, 201, 201],\n",
       "        [114, 200, 200],\n",
       "        [111, 181, 181],\n",
       "        ...,\n",
       "        [ 66, 141, 141],\n",
       "        [ 51, 135, 135],\n",
       "        [ 52, 140, 140]]], dtype=uint8)"
      ]
     },
     "execution_count": 94,
     "metadata": {},
     "output_type": "execute_result"
    }
   ],
   "source": [
    "hsv2rgb(rgb2hsv(img))"
   ]
  },
  {
   "cell_type": "code",
   "execution_count": 98,
   "metadata": {},
   "outputs": [
    {
     "data": {
      "image/png": "[encoded data removed]",
      "text/plain": [
       "<Figure size 432x288 with 1 Axes>"
      ]
     },
     "metadata": {
      "needs_background": "light"
     },
     "output_type": "display_data"
    }
   ],
   "source": [
    "bw = np.array([\n",
    "    [[0,0,0],[0,0,0]],\n",
    "    [[255,255,255],[255,255,255]]\n",
    "])\n",
    "show(bw)"
   ]
  },
  {
   "cell_type": "code",
   "execution_count": 99,
   "metadata": {},
   "outputs": [
    {
     "data": {
      "text/plain": [
       "array([[[0., 0., 0.],\n",
       "        [0., 0., 0.]],\n",
       "\n",
       "       [[0., 0., 1.],\n",
       "        [0., 0., 1.]]])"
      ]
     },
     "execution_count": 99,
     "metadata": {},
     "output_type": "execute_result"
    }
   ],
   "source": [
    "rgb2hsv(bw)"
   ]
  },
  {
   "cell_type": "code",
   "execution_count": 101,
   "metadata": {},
   "outputs": [
    {
     "data": {
      "image/png": "[encoded data removed]",
      "text/plain": [
       "<Figure size 432x288 with 1 Axes>"
      ]
     },
     "metadata": {
      "needs_background": "light"
     },
     "output_type": "display_data"
    }
   ],
   "source": [
    "show(hsv2rgb(rgb2hsv(bw)))"
   ]
  },
  {
   "cell_type": "code",
   "execution_count": 102,
   "metadata": {},
   "outputs": [],
   "source": [
    "sm = np.array([[[50,100,150]]])"
   ]
  },
  {
   "cell_type": "code",
   "execution_count": 103,
   "metadata": {},
   "outputs": [
    {
     "data": {
      "text/plain": [
       "array([[[210.        ,   0.39215686,   0.58823529]]])"
      ]
     },
     "execution_count": 103,
     "metadata": {},
     "output_type": "execute_result"
    }
   ],
   "source": [
    "rgb2hsv(sm)"
   ]
  },
  {
   "cell_type": "code",
   "execution_count": 105,
   "metadata": {},
   "outputs": [
    {
     "data": {
      "image/png": "[encoded data removed]",
      "text/plain": [
       "<Figure size 432x288 with 1 Axes>"
      ]
     },
     "metadata": {
      "needs_background": "light"
     },
     "output_type": "display_data"
    }
   ],
   "source": [
    "show(hsv2rgb(rgb2hsv(sm)))"
   ]
  },
  {
   "cell_type": "code",
   "execution_count": 106,
   "metadata": {},
   "outputs": [
    {
     "data": {
      "image/png": "[encoded data removed]",
      "text/plain": [
       "<Figure size 432x288 with 1 Axes>"
      ]
     },
     "metadata": {
      "needs_background": "light"
     },
     "output_type": "display_data"
    }
   ],
   "source": [
    "show(sm)"
   ]
  },
  {
   "cell_type": "code",
   "execution_count": 118,
   "metadata": {},
   "outputs": [
    {
     "name": "stdout",
     "output_type": "stream",
     "text": [
      "[[[140 160 150]]]\n",
      "[[[1.50000000e+02 7.84313725e-02 6.27450980e-01]]]\n",
      "[[[140 160 140]]]\n"
     ]
    }
   ],
   "source": [
    "sm = np.array([[[140,160,150]]])\n",
    "print(sm)\n",
    "print(rgb2hsv(sm))\n",
    "print(hsv2rgb(rgb2hsv(sm)))"
   ]
  },
  {
   "cell_type": "code",
   "execution_count": 119,
   "metadata": {},
   "outputs": [
    {
     "name": "stdout",
     "output_type": "stream",
     "text": [
      "[[[150 160 140]]]\n",
      "[[[9.00000000e+01 7.84313725e-02 6.27450980e-01]]]\n",
      "[[[160 160 140]]]\n"
     ]
    }
   ],
   "source": [
    "sm = np.array([[[150,160,140]]])\n",
    "print(sm)\n",
    "print(rgb2hsv(sm))\n",
    "print(hsv2rgb(rgb2hsv(sm)))"
   ]
  },
  {
   "cell_type": "code",
   "execution_count": 120,
   "metadata": {},
   "outputs": [
    {
     "name": "stdout",
     "output_type": "stream",
     "text": [
      "[[[160 150 140]]]\n",
      "[[[30.          0.07843137  0.62745098]]]\n",
      "[[[160 140 140]]]\n"
     ]
    }
   ],
   "source": [
    "sm = np.array([[[160,150,140]]])\n",
    "print(sm)\n",
    "print(rgb2hsv(sm))\n",
    "print(hsv2rgb(rgb2hsv(sm)))"
   ]
  },
  {
   "cell_type": "code",
   "execution_count": 127,
   "metadata": {},
   "outputs": [
    {
     "name": "stdout",
     "output_type": "stream",
     "text": [
      "[[[160 140 150]]]\n",
      "[[[3.30000000e+02 7.84313725e-02 6.27450980e-01]]]\n",
      "0.07843137254901955 5.5 0.07843137254901955 0.6274509803921569 0.6274509803921569 0.5490196078431373 0.6274509803921569\n",
      "[[[160 140 160]]]\n"
     ]
    }
   ],
   "source": [
    "sm = np.array([[[160,140,150]]])\n",
    "print(sm)\n",
    "print(rgb2hsv(sm))\n",
    "print(hsv2rgb(rgb2hsv(sm)))"
   ]
  },
  {
   "cell_type": "code",
   "execution_count": 126,
   "metadata": {},
   "outputs": [
    {
     "name": "stdout",
     "output_type": "stream",
     "text": [
      "[[[160 140 160]]]\n",
      "[[[3.00000000e+02 7.84313725e-02 6.27450980e-01]]]\n",
      "0.07843137254901955 5.0 0.07843137254901955 0.6274509803921569 0.6274509803921569 0.5490196078431373 0.6274509803921569\n",
      "[[[160 140 160]]]\n"
     ]
    }
   ],
   "source": [
    "sm = np.array([[[160,140,160]]])\n",
    "print(sm)\n",
    "print(rgb2hsv(sm))\n",
    "print(hsv2rgb(rgb2hsv(sm)))"
   ]
  },
  {
   "cell_type": "code",
   "execution_count": 137,
   "metadata": {},
   "outputs": [
    {
     "data": {
      "image/png": "[encoded data removed]",
      "text/plain": [
       "<Figure size 432x288 with 1 Axes>"
      ]
     },
     "metadata": {
      "needs_background": "light"
     },
     "output_type": "display_data"
    }
   ],
   "source": [
    "#Q5\n",
    "def rgb2hsv(imag):\n",
    "    hsvt = imag.copy().astype(np.float)\n",
    "    hsvt = hsvt / 255.0\n",
    "    for i in range(hsvt.shape[0]):\n",
    "        for j in range(hsvt.shape[1]):\n",
    "            mx = hsvt[i][j].max()\n",
    "            mn = hsvt[i][j].min()\n",
    "            r = hsvt[i][j][0]\n",
    "            g = hsvt[i][j][1]\n",
    "            b = hsvt[i][j][2]\n",
    "            H = 0\n",
    "            if mx-mn > 0:\n",
    "                if mn==b:\n",
    "                    H = 60.0 + 60.0 *(g-r)/ (mx-mn)\n",
    "                elif mn==r:\n",
    "                    H = 180.0 + 60.0*(b-g)/ (mx-mn)\n",
    "                else:\n",
    "                    H = 300.0 + 60.0*(r-b) /(mx-mn)\n",
    "            S = mx-mn\n",
    "            V = mx\n",
    "            hsvt[i][j][0] = H\n",
    "            hsvt[i][j][1] = S\n",
    "            hsvt[i][j][2] = V\n",
    "\n",
    "    return hsvt\n",
    "\n",
    "def hsv2rgb(imag):\n",
    "    rgbt = imag.copy().astype(np.float)\n",
    "    for i in range(rgbt.shape[0]):\n",
    "        for j in range(rgbt.shape[1]):\n",
    "            C = rgbt[i][j][1]\n",
    "            HH = rgbt[i][j][0] / 60.0\n",
    "            HH_I = int(HH)\n",
    "            HH_F = HH - HH_I\n",
    "            X = C *(1 - np.abs(-1 + HH_F + HH_I % 2))\n",
    "            V = rgbt[i][j][2]\n",
    "            if HH < 1:\n",
    "                R = V - C + C\n",
    "                G = V - C + X\n",
    "                B = V - C + 0\n",
    "            elif HH < 2:\n",
    "                R = V - C + X\n",
    "                G = V - C + C\n",
    "                B = V - C + 0 \n",
    "            elif HH < 3:\n",
    "                R = V - C + 0\n",
    "                G = V - C + C\n",
    "                B = V - C + X \n",
    "            elif HH < 4:\n",
    "                R = V - C + 0\n",
    "                G = V - C + X\n",
    "                B = V - C + C \n",
    "            elif HH < 5:\n",
    "                R = V - C + X\n",
    "                G = V - C + 0\n",
    "                B = V - C + C \n",
    "            elif HH < 6:\n",
    "                R = V - C + C\n",
    "                G = V - C + 0\n",
    "                B = V - C + X\n",
    "            else:\n",
    "                R = V - C + 0\n",
    "                G = V - C + 0\n",
    "                B = V - C + 0\n",
    "            rgbt[i][j][0] = R\n",
    "            rgbt[i][j][1] = G\n",
    "            rgbt[i][j][2] = B\n",
    "    rgbt = rgbt * 255\n",
    "    return rgbt.astype(np.uint8)\n",
    "\n",
    "def revhue(imag):\n",
    "    rh = imag.copy()\n",
    "    rh[:,:,0] = 180.0 + imag[:,:,0]\n",
    "    rh = rh - 360.0*(rh > 360)\n",
    "    return rh\n",
    "show(hsv2rgb(revhue(rgb2hsv(img))))\n"
   ]
  },
  {
   "cell_type": "code",
   "execution_count": 142,
   "metadata": {},
   "outputs": [
    {
     "data": {
      "image/png": "[encoded data removed]",
      "text/plain": [
       "<Figure size 432x288 with 1 Axes>"
      ]
     },
     "metadata": {
      "needs_background": "light"
     },
     "output_type": "display_data"
    }
   ],
   "source": [
    "#Q6\n",
    "def decrease_color2(imag):\n",
    "    dc = imag.copy().astype(np.uint16)\n",
    "    base = dc.copy()\n",
    "    base[:,:,:] = 0\n",
    "\n",
    "    base = base + (dc < 64) * 32\n",
    "    dc = dc + (dc < 64) * 512\n",
    "\n",
    "    base = base + (dc < 128) * 96\n",
    "    dc = dc + (dc < 128) * 512\n",
    "\n",
    "    base = base + (dc < 192) * 160\n",
    "    dc = dc + (dc < 192) * 512\n",
    "\n",
    "    base = base + (dc < 256) * 224\n",
    "    dc = dc + (dc < 256) * 512\n",
    "    return base.astype(np.uint8)\n",
    "\n",
    "def decrease_color(imag):\n",
    "    dc = imag.copy()\n",
    "    dc = dc // 64\n",
    "    dc = dc * 64 + 32\n",
    "    return dc\n",
    "\n",
    "show(decrease_color(img))\n"
   ]
  },
  {
   "cell_type": "code",
   "execution_count": 143,
   "metadata": {},
   "outputs": [
    {
     "data": {
      "image/png": "[encoded data removed]",
      "text/plain": [
       "<Figure size 432x288 with 1 Axes>"
      ]
     },
     "metadata": {
      "needs_background": "light"
     },
     "output_type": "display_data"
    }
   ],
   "source": [
    "show(decrease_color2(img))"
   ]
  },
  {
   "cell_type": "code",
   "execution_count": 144,
   "metadata": {},
   "outputs": [],
   "source": [
    "img = load(\"imori_128x128.png\")"
   ]
  },
  {
   "cell_type": "code",
   "execution_count": 145,
   "metadata": {},
   "outputs": [
    {
     "data": {
      "image/png": "[encoded data removed]",
      "text/plain": [
       "<Figure size 432x288 with 1 Axes>"
      ]
     },
     "metadata": {
      "needs_background": "light"
     },
     "output_type": "display_data"
    }
   ],
   "source": [
    "show(img)"
   ]
  },
  {
   "cell_type": "code",
   "execution_count": 161,
   "metadata": {},
   "outputs": [
    {
     "data": {
      "image/png": "[encoded data removed]",
      "text/plain": [
       "<Figure size 432x288 with 1 Axes>"
      ]
     },
     "metadata": {
      "needs_background": "light"
     },
     "output_type": "display_data"
    }
   ],
   "source": [
    "#Q7\n",
    "def avg_pooling2(imag, poolsize=8):\n",
    "    poo = imag.copy()\n",
    "    for i in range(0, poo.shape[0], poolsize):\n",
    "        for j in range(0, poo.shape[1], poolsize):\n",
    "            total = np.zeros(3).astype(np.uint32)\n",
    "            for p in range(i, i+poolsize):\n",
    "                for q in range(j, j+poolsize):\n",
    "                    total = total + poo[p][q]\n",
    "            total = total // (poolsize*poolsize)\n",
    "            for p in range(i, i+poolsize):\n",
    "                for q in range(j, j+poolsize):\n",
    "                    poo[p][q] = total\n",
    "    return poo\n",
    "\n",
    "def avg_pooling(imag, G=8):\n",
    "    out = imag.copy()\n",
    "\n",
    "    H, W, C = imag.shape\n",
    "    Nh = int(H / G)\n",
    "    Nw = int(W / G)\n",
    "\n",
    "    for y in range(Nh):\n",
    "        for x in range(Nw):\n",
    "            for c in range(C):\n",
    "                out[G*y:G*(y+1), G*x:G*(x+1), c] = np.mean(out[G*y:G*(y+1), G*x:G*(x+1), c]).astype(np.int)\n",
    "    \n",
    "    return out\n",
    "\n",
    "show(avg_pooling2(img))"
   ]
  },
  {
   "cell_type": "code",
   "execution_count": 164,
   "metadata": {},
   "outputs": [
    {
     "data": {
      "image/png": "[encoded data removed]",
      "text/plain": [
       "<Figure size 432x288 with 1 Axes>"
      ]
     },
     "metadata": {
      "needs_background": "light"
     },
     "output_type": "display_data"
    }
   ],
   "source": [
    "#Q8\n",
    "def max_pooling2(imag, poolsize=8):\n",
    "    poo = imag.copy()\n",
    "    for i in range(0, poo.shape[0], poolsize):\n",
    "        for j in range(0, poo.shape[1], poolsize):\n",
    "            mx = np.zeros(3).astype(np.uint8)\n",
    "            for p in range(i, i+poolsize):\n",
    "                for q in range(j, j+poolsize):\n",
    "                    mx[0] = max(mx[0], poo[p][q][0])\n",
    "                    mx[1] = max(mx[1], poo[p][q][1])\n",
    "                    mx[2] = max(mx[2], poo[p][q][2])\n",
    "            for p in range(i, i+poolsize):\n",
    "                for q in range(j, j+poolsize):\n",
    "                    poo[p][q] = mx\n",
    "    return poo\n",
    "\n",
    "def max_pooling(imag, G=8):\n",
    "    # Max Pooling\n",
    "    out = imag.copy()\n",
    "\n",
    "    H, W, C = imag.shape\n",
    "    Nh = int(H / G)\n",
    "    Nw = int(W / G)\n",
    "\n",
    "    for y in range(Nh):\n",
    "        for x in range(Nw):\n",
    "            for c in range(C):\n",
    "                out[G*y:G*(y+1), G*x:G*(x+1), c] = np.max(out[G*y:G*(y+1), G*x:G*(x+1), c])\n",
    "    return out\n",
    "\n",
    "show(max_pooling2(img))"
   ]
  },
  {
   "cell_type": "code",
   "execution_count": 120,
   "metadata": {},
   "outputs": [
    {
     "data": {
      "image/png": "[encoded data removed]",
      "text/plain": [
       "<Figure size 432x288 with 1 Axes>"
      ]
     },
     "metadata": {
      "needs_background": "light"
     },
     "output_type": "display_data"
    }
   ],
   "source": [
    "#Q9\n",
    "def gaussian_filter(imag, around=1, sigma=1.3):\n",
    "    gf = imag.copy()\n",
    "    result = imag.copy()\n",
    "    \n",
    "    w = np.zeros([2*around+1, 2*around+1], dtype=np.float)\n",
    "    for s in range(2*around+1):\n",
    "        for t in range(2*around+1):\n",
    "            w[s][t] = np.exp(-1.0*((s-around)*(s-around)+(t-around)*(t-around))/(2.0*sigma*sigma)) / (2.0*np.pi*sigma*sigma)\n",
    "    w = w / w.sum()\n",
    "    for i in range(gf.shape[0]):\n",
    "        for j in range(gf.shape[1]):\n",
    "            p = np.zeros(3).astype(np.float)\n",
    "            for s in range(2*around+1):\n",
    "                for t in range(2*around+1):\n",
    "                    if 0 <= i + s - around < gf.shape[0] and 0 <= j + t - around < gf.shape[1]:\n",
    "                        p += gf[i+s-around][j+t-around] * w[s,t]\n",
    "            result[i][j] = p.astype(np.uint8)\n",
    "    return result\n",
    "\n",
    "nimg = load(\"imori_256x256_noise.png\")\n",
    "\n",
    "show(gaussian_filter(nimg))"
   ]
  },
  {
   "cell_type": "code",
   "execution_count": 184,
   "metadata": {},
   "outputs": [
    {
     "data": {
      "image/png": "[encoded data removed]",
      "text/plain": [
       "<Figure size 432x288 with 1 Axes>"
      ]
     },
     "metadata": {
      "needs_background": "light"
     },
     "output_type": "display_data"
    }
   ],
   "source": [
    "show(nimg)"
   ]
  },
  {
   "cell_type": "code",
   "execution_count": 169,
   "metadata": {},
   "outputs": [
    {
     "ename": "KeyboardInterrupt",
     "evalue": "",
     "output_type": "error",
     "traceback": [
      "\u001b[0;31m---------------------------------------------------------------------------\u001b[0m",
      "\u001b[0;31mKeyboardInterrupt\u001b[0m                         Traceback (most recent call last)",
      "\u001b[0;32m<ipython-input-169-5f598e6252ab>\u001b[0m in \u001b[0;36m<module>\u001b[0;34m\u001b[0m\n\u001b[0;32m----> 1\u001b[0;31m \u001b[0mshow\u001b[0m\u001b[0;34m(\u001b[0m\u001b[0mgaussian_filter\u001b[0m\u001b[0;34m(\u001b[0m\u001b[0mnimg\u001b[0m\u001b[0;34m,\u001b[0m \u001b[0;36m4\u001b[0m\u001b[0;34m)\u001b[0m\u001b[0;34m)\u001b[0m\u001b[0;34m\u001b[0m\u001b[0;34m\u001b[0m\u001b[0m\n\u001b[0m",
      "\u001b[0;32m<ipython-input-167-b5a5ba009918>\u001b[0m in \u001b[0;36mgaussian_filter\u001b[0;34m(imag, around, sigma)\u001b[0m\n\u001b[1;32m      8\u001b[0m             \u001b[0;32mfor\u001b[0m \u001b[0ms\u001b[0m \u001b[0;32min\u001b[0m \u001b[0mrange\u001b[0m\u001b[0;34m(\u001b[0m\u001b[0mi\u001b[0m\u001b[0;34m-\u001b[0m\u001b[0maround\u001b[0m\u001b[0;34m,\u001b[0m\u001b[0mi\u001b[0m\u001b[0;34m+\u001b[0m\u001b[0maround\u001b[0m\u001b[0;34m+\u001b[0m\u001b[0;36m1\u001b[0m\u001b[0;34m)\u001b[0m\u001b[0;34m:\u001b[0m\u001b[0;34m\u001b[0m\u001b[0;34m\u001b[0m\u001b[0m\n\u001b[1;32m      9\u001b[0m                 \u001b[0;32mfor\u001b[0m \u001b[0mt\u001b[0m \u001b[0;32min\u001b[0m \u001b[0mrange\u001b[0m\u001b[0;34m(\u001b[0m\u001b[0mj\u001b[0m\u001b[0;34m-\u001b[0m\u001b[0maround\u001b[0m\u001b[0;34m,\u001b[0m\u001b[0mj\u001b[0m\u001b[0;34m+\u001b[0m\u001b[0maround\u001b[0m\u001b[0;34m+\u001b[0m\u001b[0;36m1\u001b[0m\u001b[0;34m)\u001b[0m\u001b[0;34m:\u001b[0m\u001b[0;34m\u001b[0m\u001b[0;34m\u001b[0m\u001b[0m\n\u001b[0;32m---> 10\u001b[0;31m                     \u001b[0mw\u001b[0m \u001b[0;34m=\u001b[0m \u001b[0mnp\u001b[0m\u001b[0;34m.\u001b[0m\u001b[0mexp\u001b[0m\u001b[0;34m(\u001b[0m\u001b[0;34m-\u001b[0m\u001b[0;36m1.0\u001b[0m\u001b[0;34m*\u001b[0m\u001b[0;34m(\u001b[0m\u001b[0;34m(\u001b[0m\u001b[0ms\u001b[0m\u001b[0;34m-\u001b[0m\u001b[0mi\u001b[0m\u001b[0;34m)\u001b[0m\u001b[0;34m*\u001b[0m\u001b[0;34m(\u001b[0m\u001b[0ms\u001b[0m\u001b[0;34m-\u001b[0m\u001b[0mi\u001b[0m\u001b[0;34m)\u001b[0m\u001b[0;34m+\u001b[0m\u001b[0;34m(\u001b[0m\u001b[0mt\u001b[0m\u001b[0;34m-\u001b[0m\u001b[0mj\u001b[0m\u001b[0;34m)\u001b[0m\u001b[0;34m*\u001b[0m\u001b[0;34m(\u001b[0m\u001b[0mt\u001b[0m\u001b[0;34m-\u001b[0m\u001b[0mj\u001b[0m\u001b[0;34m)\u001b[0m\u001b[0;34m)\u001b[0m\u001b[0;34m/\u001b[0m\u001b[0;34m(\u001b[0m\u001b[0;36m2.0\u001b[0m\u001b[0;34m*\u001b[0m\u001b[0msigma\u001b[0m\u001b[0;34m*\u001b[0m\u001b[0msigma\u001b[0m\u001b[0;34m)\u001b[0m\u001b[0;34m)\u001b[0m \u001b[0;34m/\u001b[0m \u001b[0;34m(\u001b[0m\u001b[0;36m2.0\u001b[0m\u001b[0;34m*\u001b[0m\u001b[0mnp\u001b[0m\u001b[0;34m.\u001b[0m\u001b[0mpi\u001b[0m\u001b[0;34m*\u001b[0m\u001b[0msigma\u001b[0m\u001b[0;34m*\u001b[0m\u001b[0msigma\u001b[0m\u001b[0;34m)\u001b[0m\u001b[0;34m\u001b[0m\u001b[0;34m\u001b[0m\u001b[0m\n\u001b[0m\u001b[1;32m     11\u001b[0m                     \u001b[0mwtotal\u001b[0m \u001b[0;34m+=\u001b[0m \u001b[0mw\u001b[0m\u001b[0;34m\u001b[0m\u001b[0;34m\u001b[0m\u001b[0m\n\u001b[1;32m     12\u001b[0m                     \u001b[0;32mif\u001b[0m \u001b[0;36m0\u001b[0m \u001b[0;34m<=\u001b[0m \u001b[0ms\u001b[0m \u001b[0;34m<\u001b[0m \u001b[0mgf\u001b[0m\u001b[0;34m.\u001b[0m\u001b[0mshape\u001b[0m\u001b[0;34m[\u001b[0m\u001b[0;36m0\u001b[0m\u001b[0;34m]\u001b[0m \u001b[0;32mand\u001b[0m \u001b[0;36m0\u001b[0m \u001b[0;34m<=\u001b[0m \u001b[0mt\u001b[0m \u001b[0;34m<\u001b[0m \u001b[0mgf\u001b[0m\u001b[0;34m.\u001b[0m\u001b[0mshape\u001b[0m\u001b[0;34m[\u001b[0m\u001b[0;36m1\u001b[0m\u001b[0;34m]\u001b[0m\u001b[0;34m:\u001b[0m\u001b[0;34m\u001b[0m\u001b[0;34m\u001b[0m\u001b[0m\n",
      "\u001b[0;31mKeyboardInterrupt\u001b[0m: "
     ]
    }
   ],
   "source": [
    "show(gaussian_filter(nimg, 4))"
   ]
  },
  {
   "cell_type": "code",
   "execution_count": 170,
   "metadata": {},
   "outputs": [
    {
     "data": {
      "image/png": "[encoded data removed]",
      "text/plain": [
       "<Figure size 432x288 with 1 Axes>"
      ]
     },
     "metadata": {
      "needs_background": "light"
     },
     "output_type": "display_data"
    }
   ],
   "source": [
    "show(gaussian_filter(nimg))"
   ]
  },
  {
   "cell_type": "code",
   "execution_count": 190,
   "metadata": {},
   "outputs": [
    {
     "data": {
      "image/png": "[encoded data removed]",
      "text/plain": [
       "<Figure size 432x288 with 1 Axes>"
      ]
     },
     "metadata": {
      "needs_background": "light"
     },
     "output_type": "display_data"
    }
   ],
   "source": [
    "show(gaussian_filter(nimg,2))"
   ]
  },
  {
   "cell_type": "code",
   "execution_count": 191,
   "metadata": {},
   "outputs": [
    {
     "data": {
      "image/png": "[encoded data removed]",
      "text/plain": [
       "<Figure size 432x288 with 1 Axes>"
      ]
     },
     "metadata": {
      "needs_background": "light"
     },
     "output_type": "display_data"
    }
   ],
   "source": [
    "show(gaussian_filter(nimg,1,2))"
   ]
  },
  {
   "cell_type": "code",
   "execution_count": 192,
   "metadata": {},
   "outputs": [
    {
     "data": {
      "image/png": "[encoded data removed]",
      "text/plain": [
       "<Figure size 432x288 with 1 Axes>"
      ]
     },
     "metadata": {
      "needs_background": "light"
     },
     "output_type": "display_data"
    }
   ],
   "source": [
    "show(gaussian_filter(nimg,1,4.0))"
   ]
  },
  {
   "cell_type": "code",
   "execution_count": 193,
   "metadata": {},
   "outputs": [
    {
     "data": {
      "image/png": "[encoded data removed]",
      "text/plain": [
       "<Figure size 432x288 with 1 Axes>"
      ]
     },
     "metadata": {
      "needs_background": "light"
     },
     "output_type": "display_data"
    }
   ],
   "source": [
    "show(gaussian_filter(nimg,1,1.3))"
   ]
  },
  {
   "cell_type": "code",
   "execution_count": 194,
   "metadata": {},
   "outputs": [
    {
     "data": {
      "image/png": "[encoded data removed]",
      "text/plain": [
       "<Figure size 432x288 with 1 Axes>"
      ]
     },
     "metadata": {
      "needs_background": "light"
     },
     "output_type": "display_data"
    }
   ],
   "source": [
    "show(gaussian_filter(nimg,1,0.1))"
   ]
  },
  {
   "cell_type": "code",
   "execution_count": 196,
   "metadata": {},
   "outputs": [
    {
     "data": {
      "image/png": "[encoded data removed]",
      "text/plain": [
       "<Figure size 432x288 with 1 Axes>"
      ]
     },
     "metadata": {
      "needs_background": "light"
     },
     "output_type": "display_data"
    }
   ],
   "source": [
    "show(gaussian_filter(nimg,2,20.0))"
   ]
  },
  {
   "cell_type": "code",
   "execution_count": 197,
   "metadata": {},
   "outputs": [
    {
     "data": {
      "image/png": "[encoded data removed]",
      "text/plain": [
       "<Figure size 432x288 with 1 Axes>"
      ]
     },
     "metadata": {
      "needs_background": "light"
     },
     "output_type": "display_data"
    }
   ],
   "source": [
    "show(gaussian_filter(nimg,2,1.1))"
   ]
  },
  {
   "cell_type": "code",
   "execution_count": 221,
   "metadata": {},
   "outputs": [],
   "source": [
    "#Q10\n",
    "def median_filter(imag, around=1):\n",
    "    gf = imag.copy()\n",
    "    result = imag.copy()\n",
    "    \n",
    "    for i in range(gf.shape[0]):\n",
    "        for j in range(gf.shape[1]):\n",
    "            r = []\n",
    "            g = []\n",
    "            b = []\n",
    "            for s in range(i-around, i+around+1):\n",
    "                for t in range(j-around, j+around+1):\n",
    "                    if 0 <= s < gf.shape[0] and 0 <= t < gf.shape[1]:\n",
    "                        r.append(gf[s,t,0])\n",
    "                        g.append(gf[s,t,1])\n",
    "                        b.append(gf[s,t,2])\n",
    "            size = len(r)\n",
    "            pt = np.zeros(3).astype(np.uint32)\n",
    "            if size % 2 == 0:\n",
    "                rr = np.array(sorted(r), dtype=np.int32)\n",
    "                gg = np.array(sorted(g), dtype=np.int32)\n",
    "                bb = np.array(sorted(b), dtype=np.int32)\n",
    "                pt[0] = (rr[size//2] + rr[-1+size//2])//2\n",
    "                pt[1] = (gg[size//2] + gg[-1+size//2])//2\n",
    "                pt[2] = (bb[size//2] + bb[-1+size//2])//2\n",
    "            else:\n",
    "                pt[0] = sorted(r)[size//2]\n",
    "                pt[1] = sorted(g)[size//2]\n",
    "                pt[2] = sorted(b)[size//2]\n",
    "            result[i][j] = pt.astype(np.uint8)\n",
    "    return result\n"
   ]
  },
  {
   "cell_type": "code",
   "execution_count": 202,
   "metadata": {},
   "outputs": [
    {
     "data": {
      "image/png": "[encoded data removed]",
      "text/plain": [
       "<Figure size 432x288 with 1 Axes>"
      ]
     },
     "metadata": {
      "needs_background": "light"
     },
     "output_type": "display_data"
    }
   ],
   "source": [
    "show(nimg)"
   ]
  },
  {
   "cell_type": "code",
   "execution_count": 222,
   "metadata": {},
   "outputs": [
    {
     "data": {
      "image/png": "[encoded data removed]",
      "text/plain": [
       "<Figure size 432x288 with 1 Axes>"
      ]
     },
     "metadata": {
      "needs_background": "light"
     },
     "output_type": "display_data"
    }
   ],
   "source": [
    "show(median_filter(nimg))"
   ]
  },
  {
   "cell_type": "code",
   "execution_count": 223,
   "metadata": {},
   "outputs": [
    {
     "data": {
      "image/png": "[encoded data removed]",
      "text/plain": [
       "<Figure size 432x288 with 1 Axes>"
      ]
     },
     "metadata": {
      "needs_background": "light"
     },
     "output_type": "display_data"
    }
   ],
   "source": [
    "show(median_filter(nimg,2))"
   ]
  },
  {
   "cell_type": "code",
   "execution_count": 224,
   "metadata": {},
   "outputs": [
    {
     "data": {
      "image/png": "[encoded data removed]",
      "text/plain": [
       "<Figure size 432x288 with 1 Axes>"
      ]
     },
     "metadata": {
      "needs_background": "light"
     },
     "output_type": "display_data"
    }
   ],
   "source": [
    "show(median_filter(nimg,4))"
   ]
  },
  {
   "cell_type": "code",
   "execution_count": 9,
   "metadata": {},
   "outputs": [
    {
     "data": {
      "image/png": "[encoded data removed]",
      "text/plain": [
       "<Figure size 432x288 with 1 Axes>"
      ]
     },
     "metadata": {
      "needs_background": "light"
     },
     "output_type": "display_data"
    }
   ],
   "source": [
    "#Q11\n",
    "def smoothing_filter(imag, around=2):\n",
    "    sf = imag.copy()\n",
    "    result = imag.copy().astype(np.int32)\n",
    "    \n",
    "    for i in range(sf.shape[0]):\n",
    "        for j in range(sf.shape[1]):\n",
    "            r = 0\n",
    "            g = 0\n",
    "            b = 0\n",
    "            size = 0\n",
    "            for s in range(i-around, i+around+1):\n",
    "                for t in range(j-around, j+around+1):\n",
    "                    if 0 <= s < sf.shape[0] and 0 <= t < sf.shape[1]:\n",
    "                        size += 1\n",
    "                        r += sf[s,t,0]\n",
    "                        g += sf[s,t,1]\n",
    "                        b += sf[s,t,2]\n",
    "            result[i,j] = np.array([r,g,b]).astype(np.int32) // size\n",
    "    \n",
    "    return result.astype(np.uint8)\n",
    "\n",
    "show(smoothing_filter(nimg))"
   ]
  },
  {
   "cell_type": "code",
   "execution_count": 10,
   "metadata": {},
   "outputs": [
    {
     "data": {
      "image/png": "[encoded data removed]",
      "text/plain": [
       "<Figure size 432x288 with 1 Axes>"
      ]
     },
     "metadata": {
      "needs_background": "light"
     },
     "output_type": "display_data"
    }
   ],
   "source": [
    "show(smoothing_filter(nimg, 3))"
   ]
  },
  {
   "cell_type": "code",
   "execution_count": 15,
   "metadata": {},
   "outputs": [
    {
     "data": {
      "image/png": "[encoded data removed]",
      "text/plain": [
       "<Figure size 432x288 with 1 Axes>"
      ]
     },
     "metadata": {
      "needs_background": "light"
     },
     "output_type": "display_data"
    }
   ],
   "source": [
    "#Q12\n",
    "def motion_filter(imag, around=2):\n",
    "    sf = imag.copy()\n",
    "    result = imag.copy().astype(np.int32)\n",
    "    \n",
    "    for i in range(sf.shape[0]):\n",
    "        for j in range(sf.shape[1]):\n",
    "            r = 0\n",
    "            g = 0\n",
    "            b = 0\n",
    "            size = 0\n",
    "            for s in range(i-around, i+around+1):\n",
    "                t = j+(i-s)\n",
    "                if 0 <= s < sf.shape[0] and 0 <= t < sf.shape[1]:\n",
    "                    size += 1\n",
    "                    r += sf[s,t,0]\n",
    "                    g += sf[s,t,1]\n",
    "                    b += sf[s,t,2]\n",
    "            result[i,j] = np.array([r,g,b]).astype(np.int32) // size\n",
    "    return result.astype(np.uint8)\n",
    "\n",
    "show(motion_filter(img))    "
   ]
  },
  {
   "cell_type": "code",
   "execution_count": 37,
   "metadata": {},
   "outputs": [
    {
     "data": {
      "image/png": "[encoded data removed]",
      "text/plain": [
       "<Figure size 432x288 with 1 Axes>"
      ]
     },
     "metadata": {
      "needs_background": "light"
     },
     "output_type": "display_data"
    }
   ],
   "source": [
    "#Q13\n",
    "\n",
    "def maxmin_filter(imag, around=1):\n",
    "    mf = gray_scale_single(imag)\n",
    "    result = mf.copy().astype(np.int32)\n",
    "    \n",
    "    for i in range(mf.shape[0]):\n",
    "        for j in range(mf.shape[1]):\n",
    "            vmax = -1\n",
    "            vmin = 257\n",
    "            for s in range(i-around, i+around+1):\n",
    "                for t in range(j-around, j+around+1):\n",
    "                    if 0 <= s < mf.shape[0] and 0 <= t < mf.shape[1]:\n",
    "                        v = mf[s,t]\n",
    "                        vmax = max(vmax, v)\n",
    "                        vmin = min(vmin, v)\n",
    "            result[i,j] = vmax - vmin\n",
    "            \n",
    "    return gray_scale_triple(result.astype(np.uint8))\n",
    "\n",
    "show(maxmin_filter(img, 2))"
   ]
  },
  {
   "cell_type": "code",
   "execution_count": 51,
   "metadata": {},
   "outputs": [
    {
     "data": {
      "image/png": "[encoded data removed]",
      "text/plain": [
       "<Figure size 432x288 with 1 Axes>"
      ]
     },
     "metadata": {
      "needs_background": "light"
     },
     "output_type": "display_data"
    }
   ],
   "source": [
    "#Q14\n",
    "def differential_filter_horizontal(imag):\n",
    "    df = gray_scale_single(imag).astype(np.int32)\n",
    "    result = df.copy().astype(np.int32)\n",
    "    \n",
    "    for i in range(df.shape[0]):\n",
    "        for j in range(df.shape[1]):\n",
    "            if j > 0:\n",
    "                result[i,j] = df[i,j] - df[i,j-1]\n",
    "            else:\n",
    "                result[i,j] = df[i,j] \n",
    "            result[i,j] = np.min([result[i,j],255])\n",
    "            result[i,j] = np.max([result[i,j],0])          \n",
    "    return gray_scale_triple(result.astype(np.uint8))\n",
    "\n",
    "show(differential_filter_horizontal(img))"
   ]
  },
  {
   "cell_type": "code",
   "execution_count": 50,
   "metadata": {},
   "outputs": [
    {
     "data": {
      "image/png": "[encoded data removed]",
      "text/plain": [
       "<Figure size 432x288 with 1 Axes>"
      ]
     },
     "metadata": {
      "needs_background": "light"
     },
     "output_type": "display_data"
    }
   ],
   "source": [
    "def differential_filter_vertical(imag):\n",
    "    df = gray_scale_single(imag).astype(np.int32)\n",
    "    result = df.copy().astype(np.int32)\n",
    "    \n",
    "    for i in range(df.shape[0]):\n",
    "        for j in range(df.shape[1]):\n",
    "            if i > 0:\n",
    "                result[i,j] = df[i,j] - df[i-1,j]\n",
    "            else:\n",
    "                result[i,j] = df[i,j]\n",
    "            result[i,j] = np.min([result[i,j],255])\n",
    "            result[i,j] = np.max([result[i,j],0])          \n",
    "    return gray_scale_triple(result.astype(np.uint8))\n",
    "\n",
    "show(differential_filter_vertical(img))"
   ]
  },
  {
   "cell_type": "code",
   "execution_count": 57,
   "metadata": {},
   "outputs": [
    {
     "data": {
      "image/png": "[encoded data removed]",
      "text/plain": [
       "<Figure size 432x288 with 1 Axes>"
      ]
     },
     "metadata": {
      "needs_background": "light"
     },
     "output_type": "display_data"
    }
   ],
   "source": [
    "#Q15\n",
    "def prewitt_filter_vertical(imag, around=1):\n",
    "    df = gray_scale_single(imag).astype(np.int32)\n",
    "    result = df.copy().astype(np.int32) * 0\n",
    "\n",
    "    imax = df.shape[0] - 1\n",
    "    jmax = df.shape[1] - 1\n",
    "    for i in range(df.shape[0]):\n",
    "        for j in range(df.shape[1]):\n",
    "            top = i - around\n",
    "            bottom = i + around\n",
    "            for t in range(j-around, j+around+1):\n",
    "                if 0 <= top <= imax and 0 <= t <= jmax:\n",
    "                    result[i,j] += df[top,t]\n",
    "                if 0 <= bottom <= imax and 0 <= t <= jmax:\n",
    "                    result[i,j] -= df[bottom,t]\n",
    "            result[i,j] = np.min([result[i,j],255])\n",
    "            result[i,j] = np.max([result[i,j],0])          \n",
    "    return gray_scale_triple(result.astype(np.uint8))\n",
    "\n",
    "show(prewitt_filter_vertical(img))"
   ]
  },
  {
   "cell_type": "code",
   "execution_count": 58,
   "metadata": {},
   "outputs": [
    {
     "data": {
      "image/png": "[encoded data removed]",
      "text/plain": [
       "<Figure size 432x288 with 1 Axes>"
      ]
     },
     "metadata": {
      "needs_background": "light"
     },
     "output_type": "display_data"
    }
   ],
   "source": [
    "def prewitt_filter_horizontal(imag, around=1):\n",
    "    df = gray_scale_single(imag).astype(np.int32)\n",
    "    result = df.copy().astype(np.int32) * 0\n",
    "\n",
    "    imax = df.shape[0] - 1\n",
    "    jmax = df.shape[1] - 1\n",
    "    for i in range(df.shape[0]):\n",
    "        for j in range(df.shape[1]):\n",
    "            left = j - around\n",
    "            right = j + around\n",
    "            for s in range(i-around, i+around+1):\n",
    "                if 0 <= s <= imax and 0 <= left <= jmax:\n",
    "                    result[i,j] += df[s,left]\n",
    "                if 0 <= s <= imax and 0 <= right <= jmax:\n",
    "                    result[i,j] -= df[s, right]\n",
    "            result[i,j] = np.min([result[i,j],255])\n",
    "            result[i,j] = np.max([result[i,j],0])          \n",
    "    return gray_scale_triple(result.astype(np.uint8))\n",
    "\n",
    "show(prewitt_filter_horizontal(img))"
   ]
  },
  {
   "cell_type": "code",
   "execution_count": 107,
   "metadata": {},
   "outputs": [],
   "source": [
    "#Q16\n",
    "def apply_gs_filter(imag, filt, base=0):\n",
    "    gs = gray_scale_single(imag).astype(np.int32)\n",
    "    result = (gs.copy() * 0 + 1) * base\n",
    "    around = filt.shape[0] // 2\n",
    "    imax = gs.shape[0] - 1\n",
    "    jmax = gs.shape[1] - 1\n",
    "    for i in range(gs.shape[0]):\n",
    "        for j in range(gs.shape[1]):\n",
    "            for s in range(i-around, i+around+1):\n",
    "                for t in range(j-around, j+around+1):\n",
    "                    if 0 <= s <= imax and 0 <= t <= jmax:\n",
    "                        result[i,j] += gs[s,t] * filt[s-i+around,t-j+around]\n",
    "    return gray_scale_triple(np.clip(result, 0, 255).astype(np.uint8))\n",
    "\n",
    "def sobel_filter_horizontal(imag, around=1):\n",
    "    filt = np.zeros([2*around+1, 2*around+1]).astype(np.int32)\n",
    "    left = 0\n",
    "    right = filt.shape[1]-1\n",
    "    for i in range(filt.shape[0]):\n",
    "        filt[i,left] = 1\n",
    "        filt[i,right] = -1\n",
    "    filt[around,left] = 2\n",
    "    filt[around,right] = -2\n",
    "    return apply_gs_filter(imag, filt)\n",
    "\n",
    "def sobel_filter_vertical(imag, around=1):\n",
    "    filt = np.zeros([2*around+1, 2*around+1]).astype(np.int32)\n",
    "    top = 0\n",
    "    bottom = filt.shape[0]-1\n",
    "    for j in range(filt.shape[1]):\n",
    "        filt[top,j] = 1\n",
    "        filt[bottom, j] = -1\n",
    "    filt[top, around] = 2\n",
    "    filt[bottom, around] = -2\n",
    "    return apply_gs_filter(imag, filt)\n",
    "\n"
   ]
  },
  {
   "cell_type": "code",
   "execution_count": 109,
   "metadata": {},
   "outputs": [
    {
     "data": {
      "image/png": "[encoded data removed]",
      "text/plain": [
       "<Figure size 432x288 with 1 Axes>"
      ]
     },
     "metadata": {
      "needs_background": "light"
     },
     "output_type": "display_data"
    }
   ],
   "source": [
    "show(sobel_filter_horizontal(img))"
   ]
  },
  {
   "cell_type": "code",
   "execution_count": 110,
   "metadata": {},
   "outputs": [
    {
     "data": {
      "image/png": "[encoded data removed]",
      "text/plain": [
       "<Figure size 432x288 with 1 Axes>"
      ]
     },
     "metadata": {
      "needs_background": "light"
     },
     "output_type": "display_data"
    }
   ],
   "source": [
    "show(sobel_filter_vertical(img))"
   ]
  },
  {
   "cell_type": "code",
   "execution_count": 117,
   "metadata": {},
   "outputs": [
    {
     "data": {
      "image/png": "[encoded data removed]",
      "text/plain": [
       "<Figure size 432x288 with 1 Axes>"
      ]
     },
     "metadata": {
      "needs_background": "light"
     },
     "output_type": "display_data"
    }
   ],
   "source": [
    "#Q17\n",
    "def laplacian_filter(imag):\n",
    "    filt = np.array([\n",
    "        [0,1,0],\n",
    "        [1,-4,1],\n",
    "        [0,1,0]\n",
    "    ]).astype(np.int32)\n",
    "    return apply_gs_filter(imag, filt)\n",
    "\n",
    "\n",
    "show(laplacian_filter(img128))"
   ]
  },
  {
   "cell_type": "code",
   "execution_count": 118,
   "metadata": {},
   "outputs": [
    {
     "data": {
      "image/png": "[encoded data removed]",
      "text/plain": [
       "<Figure size 432x288 with 1 Axes>"
      ]
     },
     "metadata": {
      "needs_background": "light"
     },
     "output_type": "display_data"
    }
   ],
   "source": [
    "#Q18\n",
    "def emboss_filter(imag):\n",
    "    filt = np.array([\n",
    "        [-2,-1,0],\n",
    "        [-1,1,1],\n",
    "        [0,1,2]\n",
    "    ]).astype(np.int32)\n",
    "    return apply_gs_filter(imag, filt)\n",
    "\n",
    "\n",
    "show(emboss_filter(img128))"
   ]
  },
  {
   "cell_type": "code",
   "execution_count": 128,
   "metadata": {},
   "outputs": [
    {
     "data": {
      "image/png": "[encoded data removed]",
      "text/plain": [
       "<Figure size 432x288 with 1 Axes>"
      ]
     },
     "metadata": {
      "needs_background": "light"
     },
     "output_type": "display_data"
    }
   ],
   "source": [
    "#Q19\n",
    "def log_filter(imag, around=2, sigma=3.0):\n",
    "    gf = imag.copy()\n",
    "    result = imag.copy()\n",
    "    \n",
    "    w = np.zeros([2*around+1, 2*around+1], dtype=np.float)\n",
    "    for s in range(2*around+1):\n",
    "        for t in range(2*around+1):\n",
    "            w[s][t] = ((s-around)*(s-around)+(t-around)*(t-around)-2.0*sigma*sigma) * np.exp(-1.0*((s-around)*(s-around)+(t-around)*(t-around))/(2.0*sigma*sigma)) / (2.0*np.pi*sigma*sigma*sigma*sigma*sigma*sigma)\n",
    "    w = w / w.sum()\n",
    "    for i in range(gf.shape[0]):\n",
    "        for j in range(gf.shape[1]):\n",
    "            p = np.zeros(3).astype(np.float)\n",
    "            for s in range(2*around+1):\n",
    "                for t in range(2*around+1):\n",
    "                    if 0 <= i + s - around < gf.shape[0] and 0 <= j + t - around < gf.shape[1]:\n",
    "                        p += gf[i+s-around][j+t-around] * w[s,t]\n",
    "            result[i][j] = p.astype(np.uint8)\n",
    "    return result\n",
    "\n",
    "show(log_filter(nimg))"
   ]
  },
  {
   "cell_type": "code",
   "execution_count": 129,
   "metadata": {},
   "outputs": [
    {
     "data": {
      "image/png": "[encoded data removed]",
      "text/plain": [
       "<Figure size 432x288 with 1 Axes>"
      ]
     },
     "metadata": {
      "needs_background": "light"
     },
     "output_type": "display_data"
    }
   ],
   "source": []
  },
  {
   "cell_type": "code",
   "execution_count": 131,
   "metadata": {},
   "outputs": [
    {
     "data": {
      "text/plain": [
       "array([ 82,  92, 107, ...,  84,  89, 108], dtype=uint8)"
      ]
     },
     "execution_count": 131,
     "metadata": {},
     "output_type": "execute_result"
    }
   ],
   "source": [
    "dimg.ravel()"
   ]
  },
  {
   "cell_type": "code",
   "execution_count": 133,
   "metadata": {},
   "outputs": [
    {
     "data": {
      "text/plain": [
       "(array([  119.,  9425., 22104., 31701., 29986., 29249., 34072., 23488.,\n",
       "        10990.,  5474.]),\n",
       " array([ 71. ,  77.9,  84.8,  91.7,  98.6, 105.5, 112.4, 119.3, 126.2,\n",
       "        133.1, 140. ]),\n",
       " <BarContainer object of 10 artists>)"
      ]
     },
     "execution_count": 133,
     "metadata": {},
     "output_type": "execute_result"
    },
    {
     "data": {
      "image/png": "[encoded data removed]",
      "text/plain": [
       "<Figure size 432x288 with 1 Axes>"
      ]
     },
     "metadata": {
      "needs_background": "light"
     },
     "output_type": "display_data"
    }
   ],
   "source": [
    "plt.hist(dimg.ravel())"
   ]
  },
  {
   "cell_type": "code",
   "execution_count": 135,
   "metadata": {},
   "outputs": [
    {
     "data": {
      "image/png": "[encoded data removed]",
      "text/plain": [
       "<Figure size 432x288 with 1 Axes>"
      ]
     },
     "metadata": {
      "needs_background": "light"
     },
     "output_type": "display_data"
    }
   ],
   "source": [
    "plt.hist(dimg.ravel(),bins=255,rwidth=0.8,range=(0,255))\n",
    "plt.show()"
   ]
  },
  {
   "cell_type": "code",
   "execution_count": 137,
   "metadata": {},
   "outputs": [
    {
     "data": {
      "text/plain": [
       "196608"
      ]
     },
     "execution_count": 137,
     "metadata": {},
     "output_type": "execute_result"
    }
   ],
   "source": [
    "len(dimg.ravel())"
   ]
  },
  {
   "cell_type": "code",
   "execution_count": 138,
   "metadata": {},
   "outputs": [
    {
     "data": {
      "text/plain": [
       "71"
      ]
     },
     "execution_count": 138,
     "metadata": {},
     "output_type": "execute_result"
    }
   ],
   "source": [
    "dimg.min()"
   ]
  },
  {
   "cell_type": "code",
   "execution_count": 139,
   "metadata": {},
   "outputs": [
    {
     "data": {
      "text/plain": [
       "140"
      ]
     },
     "execution_count": 139,
     "metadata": {},
     "output_type": "execute_result"
    }
   ],
   "source": [
    "dimg.max()\n"
   ]
  },
  {
   "cell_type": "code",
   "execution_count": 145,
   "metadata": {},
   "outputs": [
    {
     "data": {
      "image/png": "[encoded data removed]",
      "text/plain": [
       "<Figure size 432x288 with 1 Axes>"
      ]
     },
     "metadata": {
      "needs_background": "light"
     },
     "output_type": "display_data"
    }
   ],
   "source": [
    "#Q21\n",
    "def hist_norm(imag):\n",
    "    org = imag.copy().astype(np.float)\n",
    "    a = 0.0\n",
    "    b = 255.0\n",
    "    c = org.min()\n",
    "    d = org.max()\n",
    "    result = ((b-a)/(d-c)) * (org - c) + a\n",
    "    return np.clip(result, 0, 255).astype(np.uint8)\n",
    "\n",
    "show(hist_norm(dimg))"
   ]
  },
  {
   "cell_type": "code",
   "execution_count": 146,
   "metadata": {},
   "outputs": [
    {
     "data": {
      "image/png": "[encoded data removed]",
      "text/plain": [
       "<Figure size 432x288 with 1 Axes>"
      ]
     },
     "metadata": {
      "needs_background": "light"
     },
     "output_type": "display_data"
    }
   ],
   "source": [
    "show(dimg)"
   ]
  },
  {
   "cell_type": "code",
   "execution_count": 152,
   "metadata": {},
   "outputs": [
    {
     "data": {
      "image/png": "[encoded data removed]",
      "text/plain": [
       "<Figure size 432x288 with 1 Axes>"
      ]
     },
     "metadata": {
      "needs_background": "light"
     },
     "output_type": "display_data"
    }
   ],
   "source": [
    "#Q22\n",
    "def hist_scaleshift(imag):\n",
    "    org = imag.copy().astype(np.float)\n",
    "    flt = org.flatten()\n",
    "    m = flt.mean()\n",
    "    s = flt.std()\n",
    "    s0 = 52.0\n",
    "    m0 = 128.0\n",
    "    result = org.copy()*0\n",
    "    result = (s0/s) * (org - m) + m0\n",
    "    return np.clip(result, 0, 255).astype(np.uint8)\n",
    "\n",
    "show(hist_scaleshift(dimg))\n",
    "    "
   ]
  },
  {
   "cell_type": "code",
   "execution_count": 173,
   "metadata": {},
   "outputs": [
    {
     "data": {
      "image/png": "[encoded data removed]",
      "text/plain": [
       "<Figure size 432x288 with 1 Axes>"
      ]
     },
     "metadata": {
      "needs_background": "light"
     },
     "output_type": "display_data"
    }
   ],
   "source": [
    "plt.hist(hist_scaleshift(dimg).flatten(),bins=255)\n",
    "plt.show()"
   ]
  },
  {
   "cell_type": "code",
   "execution_count": 174,
   "metadata": {},
   "outputs": [
    {
     "data": {
      "image/png": "[encoded data removed]",
      "text/plain": [
       "<Figure size 432x288 with 1 Axes>"
      ]
     },
     "metadata": {
      "needs_background": "light"
     },
     "output_type": "display_data"
    }
   ],
   "source": [
    "plt.hist(hist_norm(dimg).flatten(),bins=255)\n",
    "plt.show()"
   ]
  },
  {
   "cell_type": "code",
   "execution_count": 180,
   "metadata": {},
   "outputs": [
    {
     "data": {
      "image/png": "[encoded data removed]",
      "text/plain": [
       "<Figure size 432x288 with 1 Axes>"
      ]
     },
     "metadata": {
      "needs_background": "light"
     },
     "output_type": "display_data"
    }
   ],
   "source": [
    "#Q23\n",
    "def hist_equalization(imag):\n",
    "    org = imag.copy().astype(np.float)\n",
    "    flt = org.flatten()\n",
    "    h = np.zeros(256).astype(np.float)\n",
    "    for f in flt:\n",
    "        h[int(f)] += 1\n",
    "    zmax = 255.0\n",
    "    s = len(flt)\n",
    "    \n",
    "    zz = np.zeros(256).astype(np.float)\n",
    "    for z in range(256):\n",
    "        zz[z] = h[0:z+1].sum()\n",
    "    zz = (zmax/s) * zz\n",
    "\n",
    "    result = org.copy() * 0\n",
    "    for s in range(org.shape[0]):\n",
    "        for t in range(org.shape[1]):\n",
    "            for u in range(org.shape[2]):\n",
    "                 result[s,t,u] = zz[int(org[s,t,u])]\n",
    "    return np.clip(result, 0, 255).astype(np.uint8)\n",
    "\n",
    "show(hist_equalization(dimg))\n",
    "    "
   ]
  },
  {
   "cell_type": "code",
   "execution_count": 181,
   "metadata": {},
   "outputs": [
    {
     "data": {
      "image/png": "[encoded data removed]",
      "text/plain": [
       "<Figure size 432x288 with 1 Axes>"
      ]
     },
     "metadata": {
      "needs_background": "light"
     },
     "output_type": "display_data"
    }
   ],
   "source": [
    "plt.hist(hist_equalization(dimg).flatten(),bins=255)\n",
    "plt.show()"
   ]
  },
  {
   "cell_type": "code",
   "execution_count": 183,
   "metadata": {},
   "outputs": [
    {
     "data": {
      "image/png": "[encoded data removed]",
      "text/plain": [
       "<Figure size 432x288 with 1 Axes>"
      ]
     },
     "metadata": {
      "needs_background": "light"
     },
     "output_type": "display_data"
    }
   ],
   "source": [
    "show(hist_equalization(img128))"
   ]
  },
  {
   "cell_type": "code",
   "execution_count": 182,
   "metadata": {},
   "outputs": [
    {
     "data": {
      "image/png": "[encoded data removed]",
      "text/plain": [
       "<Figure size 432x288 with 1 Axes>"
      ]
     },
     "metadata": {
      "needs_background": "light"
     },
     "output_type": "display_data"
    }
   ],
   "source": [
    "plt.hist(hist_equalization(img128).flatten(),bins=255)\n",
    "plt.show()"
   ]
  },
  {
   "cell_type": "code",
   "execution_count": 187,
   "metadata": {},
   "outputs": [
    {
     "data": {
      "image/png": "[encoded data removed]",
      "text/plain": [
       "<Figure size 432x288 with 1 Axes>"
      ]
     },
     "metadata": {
      "needs_background": "light"
     },
     "output_type": "display_data"
    }
   ],
   "source": [
    "#Q24\n",
    "def gamma_correction(imag):\n",
    "    org = imag.copy().astype(np.float) / 255.0   \n",
    "    g = 2.2\n",
    "    c = 1.0\n",
    "    result = ((1.0/c) * org) ** (1.0/g)\n",
    "    result = result * 255.0\n",
    "    return np.clip(result, 0, 255).astype(np.uint8)\n",
    "\n",
    "show(gamma_correction(gimg))\n",
    "    "
   ]
  },
  {
   "cell_type": "code",
   "execution_count": 188,
   "metadata": {},
   "outputs": [
    {
     "data": {
      "image/png": "[encoded data removed]",
      "text/plain": [
       "<Figure size 432x288 with 1 Axes>"
      ]
     },
     "metadata": {
      "needs_background": "light"
     },
     "output_type": "display_data"
    }
   ],
   "source": [
    "show(gimg)"
   ]
  },
  {
   "cell_type": "code",
   "execution_count": null,
   "metadata": {},
   "outputs": [],
   "source": []
  }
 ],
 "metadata": {
  "kernelspec": {
   "display_name": "Python 3",
   "language": "python",
   "name": "python3"
  },
  "language_info": {
   "codemirror_mode": {
    "name": "ipython",
    "version": 3
   },
   "file_extension": ".py",
   "mimetype": "text/x-python",
   "name": "python",
   "nbconvert_exporter": "python",
   "pygments_lexer": "ipython3",
   "version": "3.8.1"
  }
 },
 "nbformat": 4,
 "nbformat_minor": 4
}
